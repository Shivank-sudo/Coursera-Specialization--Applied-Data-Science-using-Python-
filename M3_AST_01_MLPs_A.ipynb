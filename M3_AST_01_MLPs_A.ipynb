{
  "nbformat": 4,
  "nbformat_minor": 0,
  "metadata": {
    "colab": {
      "provenance": [],
      "include_colab_link": true
    },
    "kernelspec": {
      "display_name": "Python 3",
      "language": "python",
      "name": "python3"
    },
    "language_info": {
      "codemirror_mode": {
        "name": "ipython",
        "version": 3
      },
      "file_extension": ".py",
      "mimetype": "text/x-python",
      "name": "python",
      "nbconvert_exporter": "python",
      "pygments_lexer": "ipython3",
      "version": "3.8.5"
    }
  },
  "cells": [
    {
      "cell_type": "markdown",
      "metadata": {
        "id": "view-in-github",
        "colab_type": "text"
      },
      "source": [
        "<a href=\"https://colab.research.google.com/github/Shivank-sudo/Coursera-Specialization--Applied-Data-Science-using-Python-/blob/master/M3_AST_01_MLPs_A.ipynb\" target=\"_parent\"><img src=\"https://colab.research.google.com/assets/colab-badge.svg\" alt=\"Open In Colab\"/></a>"
      ]
    },
    {
      "cell_type": "markdown",
      "metadata": {
        "id": "gmBawJ8kUNl8"
      },
      "source": [
        "# Advanced Certification Program in Computational Data Science\n",
        "## A program by IISc and TalentSprint\n",
        "### Assignment 1: MLPs"
      ]
    },
    {
      "cell_type": "markdown",
      "metadata": {
        "id": "o2WYpEkJUNl_"
      },
      "source": [
        "## Learning Objectives"
      ]
    },
    {
      "cell_type": "markdown",
      "metadata": {
        "id": "MQOkgatUUNl_"
      },
      "source": [
        "At the end of the experiment, you will be able to\n",
        "\n",
        "* understand the concept of Perceptron and Multi Layer Perceptron (MLP)\n",
        "* understand the backpropagation algorithm\n",
        "* know different activation functions and gradient issues\n",
        "* build an image classifier using the Keras Sequential API\n",
        "* solve XOR problem with MLP Classification"
      ]
    },
    {
      "cell_type": "markdown",
      "metadata": {
        "id": "3DS2llW6UNmA"
      },
      "source": [
        "### Introduction"
      ]
    },
    {
      "cell_type": "markdown",
      "metadata": {
        "id": "E8o5njJtUNmA"
      },
      "source": [
        "Artificial Neural Network (ANN) is a Machine Learning model inspired by the networks of biological neurons found in our brains."
      ]
    },
    {
      "cell_type": "markdown",
      "metadata": {
        "id": "BRPf1QX7UNmB"
      },
      "source": [
        "#### Biological Neurons"
      ]
    },
    {
      "cell_type": "markdown",
      "metadata": {
        "id": "Hw1ifp0HUNmB"
      },
      "source": [
        "Biological neurons send and receive signals from the brain. The main component functions of a neuron are - Dendrite: Receives signals from other neurons; Soma: Processes the information; Axon: Transmits the output of this neuron; Synapse: Point of connection to other neurons.\n",
        "\n",
        "<center>\n",
        "<img src=\"https://upload.wikimedia.org/wikipedia/commons/1/10/Blausen_0657_MultipolarNeuron.png\" width= 500 px/>\n",
        "</center>\n",
        "\n",
        "Individual biological neurons are organized in a vast network of billions, with each neuron typically connected to thousands of other neurons. Highly complex computations can be performed by a network of fairly simple neurons.\n"
      ]
    },
    {
      "cell_type": "markdown",
      "metadata": {
        "id": "V89Kc7-QUNmC"
      },
      "source": [
        "#### Artificial Neurons"
      ]
    },
    {
      "cell_type": "markdown",
      "metadata": {
        "id": "qKdTy3JEUNmC"
      },
      "source": [
        "Modeled after human brain activity, artificial neurons are digital constructs that simulate the behavior of biological neurons in some ways. The first computational model of an (artificial) neuron was proposed by Warren McCulloch (neuroscientist) and Walter Pitts (logician) in 1943.\n",
        "\n",
        "As shown below, it may be divided into 2 parts. The first part, g takes an input, performs aggregation, and based on the aggregated value, the second part, f, makes a decision. Understand further through an example 'Watch a football game' in this [article](https://towardsdatascience.com/mcculloch-pitts-model-5fdf65ac5dd1).\n",
        "\n",
        "<br><br>\n",
        "<center>\n",
        "<img src=\"https://miro.medium.com/max/369/1*fDHlg9iNo0LLK4czQqqO9A.png\" width= 320px/>\n",
        "</center>\n",
        "\n",
        "<br><br>\n"
      ]
    },
    {
      "cell_type": "markdown",
      "metadata": {
        "id": "ghlEu96VUNmD"
      },
      "source": [
        "### The Perceptron"
      ]
    },
    {
      "cell_type": "markdown",
      "metadata": {
        "id": "KBkkBAD8UNmD"
      },
      "source": [
        "The Perceptron is one of the simplest ANN architectures, invented in 1957 by Frank Rosenblatt. It is based on a slightly different artificial neuron (shown in the figure below) called a **threshold logic unit (TLU)**. The inputs and the output are numbers (instead of binary on/off values), and each input connection is associated with a weight. The TLU computes a weighted sum of its inputs $$(z = w_1 x_1 + w_2 x_2 + ⋯ + w_n x_n = x^⊺ w)$$, then applies a step function to that sum and outputs the result: $$h_w(x) = step(z)$$, where $z = x^⊺ w$.\n",
        "<br><br>\n",
        "<center>\n",
        "<img src=\"https://www.oreilly.com/api/v2/epubs/9781492037354/files/assets/mlst_1004.png\" width= 400px/>\n",
        "</center>\n",
        "\n",
        "$\\hspace{10cm} \\text {Threshold logic unit}$\n",
        "<br><br>\n",
        "The most common step function used in Perceptrons is the Heaviside step function. Sometimes the sign function is used instead.\n",
        "\n",
        "$$heaviside (z) = \\begin{equation}\n",
        "\\left\\{\n",
        "  \\begin{aligned}\n",
        "    &0&  if\\ \\  z < 0\\\\\n",
        "    &1&  if\\ \\  z \\ge 0\\\\\n",
        "  \\end{aligned}\n",
        "  \\right.\n",
        "\\end{equation}\n",
        "$$\n",
        "\n",
        "$$sgn (z) = \\begin{equation}\n",
        "\\left\\{\n",
        "  \\begin{aligned}\n",
        "    &-1&  if\\ \\  z < 0\\\\\n",
        "    &0&  if\\ \\  z = 0\\\\\n",
        "    &1&  if\\ \\  z > 0\\\\\n",
        "  \\end{aligned}\n",
        "  \\right.\n",
        "\\end{equation}\n",
        "$$\n",
        "\n",
        "A single TLU can be used for simple linear binary classification. It computes a linear combination of the inputs, and if the result exceeds a threshold, it outputs the positive class. Otherwise, it outputs the negative class.\n",
        "\n",
        "\n",
        "\n",
        "The decision boundary of each output neuron is linear, so Perceptrons are incapable of learning complex patterns (just like Logistic Regression classifiers). However, if the training instances are linearly separable, Rosenblatt demonstrated that this algorithm would converge to a solution. This is called the Perceptron convergence theorem."
      ]
    },
    {
      "cell_type": "markdown",
      "metadata": {
        "id": "BNLA8HiKxQhc"
      },
      "source": [
        "### Setup Steps:"
      ]
    },
    {
      "cell_type": "code",
      "metadata": {
        "id": "2YzfoPvJDiTX"
      },
      "source": [
        "#@title Please enter your registration id to start: { run: \"auto\", display-mode: \"form\" }\n",
        "Id = \"2418018\" #@param {type:\"string\"}"
      ],
      "execution_count": 1,
      "outputs": []
    },
    {
      "cell_type": "code",
      "metadata": {
        "id": "AjoZJWGErxGf"
      },
      "source": [
        "#@title Please enter your password (your registered phone number) to continue: { run: \"auto\", display-mode: \"form\" }\n",
        "password = \"7985397173\" #@param {type:\"string\"}"
      ],
      "execution_count": 2,
      "outputs": []
    },
    {
      "cell_type": "code",
      "metadata": {
        "id": "WBPPuGmBlDIN",
        "cellView": "form",
        "outputId": "beadf96d-97b6-455f-f352-b0065564099a",
        "colab": {
          "base_uri": "https://localhost:8080/",
          "height": 34
        }
      },
      "source": [
        "#@title Run this cell to complete the setup for this Notebook\n",
        "from IPython import get_ipython\n",
        "\n",
        "ipython = get_ipython()\n",
        "\n",
        "notebook= \"M3_AST_01_MLPs_A\" #name of the notebook\n",
        "\n",
        "def setup():\n",
        "#  ipython.magic(\"sx pip3 install torch\")\n",
        "\n",
        "    from IPython.display import HTML, display\n",
        "    display(HTML('<script src=\"https://dashboard.talentsprint.com/aiml/record_ip.html?traineeId={0}&recordId={1}\"></script>'.format(getId(),submission_id)))\n",
        "    print(\"Setup completed successfully\")\n",
        "    return\n",
        "\n",
        "def submit_notebook():\n",
        "    ipython.magic(\"notebook -e \"+ notebook + \".ipynb\")\n",
        "\n",
        "    import requests, json, base64, datetime\n",
        "\n",
        "    url = \"https://dashboard.talentsprint.com/xp/app/save_notebook_attempts\"\n",
        "    if not submission_id:\n",
        "      data = {\"id\" : getId(), \"notebook\" : notebook, \"mobile\" : getPassword()}\n",
        "      r = requests.post(url, data = data)\n",
        "      r = json.loads(r.text)\n",
        "\n",
        "      if r[\"status\"] == \"Success\":\n",
        "          return r[\"record_id\"]\n",
        "      elif \"err\" in r:\n",
        "        print(r[\"err\"])\n",
        "        return None\n",
        "      else:\n",
        "        print (\"Something is wrong, the notebook will not be submitted for grading\")\n",
        "        return None\n",
        "\n",
        "    elif getAnswer() and getComplexity() and getAdditional() and getConcepts() and getComments() and getMentorSupport():\n",
        "      f = open(notebook + \".ipynb\", \"rb\")\n",
        "      file_hash = base64.b64encode(f.read())\n",
        "\n",
        "      data = {\"complexity\" : Complexity, \"additional\" :Additional,\n",
        "              \"concepts\" : Concepts, \"record_id\" : submission_id,\n",
        "              \"answer\" : Answer, \"id\" : Id, \"file_hash\" : file_hash,\n",
        "              \"notebook\" : notebook,\n",
        "              \"feedback_experiments_input\" : Comments,\n",
        "              \"feedback_mentor_support\": Mentor_support}\n",
        "      r = requests.post(url, data = data)\n",
        "      r = json.loads(r.text)\n",
        "      if \"err\" in r:\n",
        "        print(r[\"err\"])\n",
        "        return None\n",
        "      else:\n",
        "        print(\"Your submission is successful.\")\n",
        "        print(\"Ref Id:\", submission_id)\n",
        "        print(\"Date of submission: \", r[\"date\"])\n",
        "        print(\"Time of submission: \", r[\"time\"])\n",
        "        print(\"View your submissions: https://learn-iisc.talentsprint.com/notebook_submissions\")\n",
        "        #print(\"For any queries/discrepancies, please connect with mentors through the chat icon in LMS dashboard.\")\n",
        "        return submission_id\n",
        "    else: submission_id\n",
        "\n",
        "\n",
        "def getAdditional():\n",
        "  try:\n",
        "    if not Additional:\n",
        "      raise NameError\n",
        "    else:\n",
        "      return Additional\n",
        "  except NameError:\n",
        "    print (\"Please answer Additional Question\")\n",
        "    return None\n",
        "\n",
        "def getComplexity():\n",
        "  try:\n",
        "    if not Complexity:\n",
        "      raise NameError\n",
        "    else:\n",
        "      return Complexity\n",
        "  except NameError:\n",
        "    print (\"Please answer Complexity Question\")\n",
        "    return None\n",
        "\n",
        "def getConcepts():\n",
        "  try:\n",
        "    if not Concepts:\n",
        "      raise NameError\n",
        "    else:\n",
        "      return Concepts\n",
        "  except NameError:\n",
        "    print (\"Please answer Concepts Question\")\n",
        "    return None\n",
        "\n",
        "\n",
        "# def getWalkthrough():\n",
        "#   try:\n",
        "#     if not Walkthrough:\n",
        "#       raise NameError\n",
        "#     else:\n",
        "#       return Walkthrough\n",
        "#   except NameError:\n",
        "#     print (\"Please answer Walkthrough Question\")\n",
        "#     return None\n",
        "\n",
        "def getComments():\n",
        "  try:\n",
        "    if not Comments:\n",
        "      raise NameError\n",
        "    else:\n",
        "      return Comments\n",
        "  except NameError:\n",
        "    print (\"Please answer Comments Question\")\n",
        "    return None\n",
        "\n",
        "\n",
        "def getMentorSupport():\n",
        "  try:\n",
        "    if not Mentor_support:\n",
        "      raise NameError\n",
        "    else:\n",
        "      return Mentor_support\n",
        "  except NameError:\n",
        "    print (\"Please answer Mentor support Question\")\n",
        "    return None\n",
        "\n",
        "def getAnswer():\n",
        "  try:\n",
        "    if not Answer:\n",
        "      raise NameError\n",
        "    else:\n",
        "      return Answer\n",
        "  except NameError:\n",
        "    print (\"Please answer Question\")\n",
        "    return None\n",
        "\n",
        "\n",
        "def getId():\n",
        "  try:\n",
        "    return Id if Id else None\n",
        "  except NameError:\n",
        "    return None\n",
        "\n",
        "def getPassword():\n",
        "  try:\n",
        "    return password if password else None\n",
        "  except NameError:\n",
        "    return None\n",
        "\n",
        "submission_id = None\n",
        "### Setup\n",
        "if getPassword() and getId():\n",
        "  submission_id = submit_notebook()\n",
        "  if submission_id:\n",
        "    setup()\n",
        "else:\n",
        "  print (\"Please complete Id and Password cells before running setup\")\n",
        "\n"
      ],
      "execution_count": 3,
      "outputs": [
        {
          "output_type": "display_data",
          "data": {
            "text/plain": [
              "<IPython.core.display.HTML object>"
            ],
            "text/html": [
              "<script src=\"https://dashboard.talentsprint.com/aiml/record_ip.html?traineeId=2418018&recordId=4152\"></script>"
            ]
          },
          "metadata": {}
        },
        {
          "output_type": "stream",
          "name": "stdout",
          "text": [
            "Setup completed successfully\n"
          ]
        }
      ]
    },
    {
      "cell_type": "markdown",
      "metadata": {
        "id": "Psn-z1duUNmA"
      },
      "source": [
        "### Import required packages"
      ]
    },
    {
      "cell_type": "code",
      "metadata": {
        "id": "ULpxRHv-UNmA"
      },
      "source": [
        "import numpy as np\n",
        "import pandas as pd\n",
        "import matplotlib.pyplot as plt\n",
        "import tensorflow as tf\n",
        "from tensorflow import keras\n",
        "from sklearn import datasets\n",
        "from sklearn.preprocessing import StandardScaler\n",
        "from sklearn.linear_model import Perceptron\n",
        "from sklearn.neural_network import MLPClassifier\n",
        "from tensorflow.keras.models import Sequential\n",
        "from tensorflow.keras.layers import Flatten, Dense\n",
        "from sklearn.metrics import accuracy_score"
      ],
      "execution_count": 4,
      "outputs": []
    },
    {
      "cell_type": "markdown",
      "metadata": {
        "id": "PgiQmFuzPlxz"
      },
      "source": [
        "Scikit-Learn provides a `Perceptron` class that implements a single-TLU network.\n",
        "\n",
        "Let's see how it can be used on the iris dataset:"
      ]
    },
    {
      "cell_type": "code",
      "metadata": {
        "id": "7d1482YKUNmG",
        "outputId": "765dc5ec-eb36-4458-a69a-575c97b294fd",
        "colab": {
          "base_uri": "https://localhost:8080/"
        }
      },
      "source": [
        "# Load Iris dataset\n",
        "iris = datasets.load_iris()\n",
        "# Consider petal length, petal width\n",
        "X = iris.data[:, (2, 3)]\n",
        "# Whether Iris setosa?\n",
        "y = (iris.target == 0).astype(int)\n",
        "\n",
        "# Instantiate Perceptron\n",
        "per_clf = Perceptron()\n",
        "# Fit on data\n",
        "# YOUR CODE HERE to fit 'per_clf' on (X, y)\n",
        "per_clf.fit(X,y)\n",
        "\n",
        "# Prediction on one sample instance\n",
        "y_pred = per_clf.predict([[1.3, 0.2]])\n",
        "# YOUR CODE HERE to show 'y_pred'\n",
        "print(y_pred)"
      ],
      "execution_count": 5,
      "outputs": [
        {
          "output_type": "stream",
          "name": "stdout",
          "text": [
            "[1]\n"
          ]
        }
      ]
    },
    {
      "cell_type": "code",
      "source": [
        "iris = datasets.load_iris()"
      ],
      "metadata": {
        "id": "RI7PeYQbr_jy"
      },
      "execution_count": 6,
      "outputs": []
    },
    {
      "cell_type": "code",
      "source": [
        "type(iris)"
      ],
      "metadata": {
        "id": "4XL78HBXsFIZ",
        "outputId": "af9aa8b1-ce2c-488d-9dff-9afa230a68de",
        "colab": {
          "base_uri": "https://localhost:8080/",
          "height": 187
        }
      },
      "execution_count": 7,
      "outputs": [
        {
          "output_type": "execute_result",
          "data": {
            "text/plain": [
              "sklearn.utils._bunch.Bunch"
            ],
            "text/html": [
              "<div style=\"max-width:800px; border: 1px solid var(--colab-border-color);\"><style>\n",
              "      pre.function-repr-contents {\n",
              "        overflow-x: auto;\n",
              "        padding: 8px 12px;\n",
              "        max-height: 500px;\n",
              "      }\n",
              "\n",
              "      pre.function-repr-contents.function-repr-contents-collapsed {\n",
              "        cursor: pointer;\n",
              "        max-height: 100px;\n",
              "      }\n",
              "    </style>\n",
              "    <pre style=\"white-space: initial; background:\n",
              "         var(--colab-secondary-surface-color); padding: 8px 12px;\n",
              "         border-bottom: 1px solid var(--colab-border-color);\"><b>sklearn.utils._bunch.Bunch</b><br/>def __init__(**kwargs)</pre><pre class=\"function-repr-contents function-repr-contents-collapsed\" style=\"\"><a class=\"filepath\" style=\"display:none\" href=\"#\">/usr/local/lib/python3.11/dist-packages/sklearn/utils/_bunch.py</a>Container object exposing keys as attributes.\n",
              "\n",
              "Bunch objects are sometimes used as an output for functions and methods.\n",
              "They extend dictionaries by enabling values to be accessed by key,\n",
              "`bunch[&quot;value_key&quot;]`, or by an attribute, `bunch.value_key`.\n",
              "\n",
              "Examples\n",
              "--------\n",
              "&gt;&gt;&gt; from sklearn.utils import Bunch\n",
              "&gt;&gt;&gt; b = Bunch(a=1, b=2)\n",
              "&gt;&gt;&gt; b[&#x27;b&#x27;]\n",
              "2\n",
              "&gt;&gt;&gt; b.b\n",
              "2\n",
              "&gt;&gt;&gt; b.a = 3\n",
              "&gt;&gt;&gt; b[&#x27;a&#x27;]\n",
              "3\n",
              "&gt;&gt;&gt; b.c = 6\n",
              "&gt;&gt;&gt; b[&#x27;c&#x27;]\n",
              "6</pre>\n",
              "      <script>\n",
              "      if (google.colab.kernel.accessAllowed && google.colab.files && google.colab.files.view) {\n",
              "        for (const element of document.querySelectorAll('.filepath')) {\n",
              "          element.style.display = 'block'\n",
              "          element.onclick = (event) => {\n",
              "            event.preventDefault();\n",
              "            event.stopPropagation();\n",
              "            google.colab.files.view(element.textContent, 7);\n",
              "          };\n",
              "        }\n",
              "      }\n",
              "      for (const element of document.querySelectorAll('.function-repr-contents')) {\n",
              "        element.onclick = (event) => {\n",
              "          event.preventDefault();\n",
              "          event.stopPropagation();\n",
              "          element.classList.toggle('function-repr-contents-collapsed');\n",
              "        };\n",
              "      }\n",
              "      </script>\n",
              "      </div>"
            ]
          },
          "metadata": {},
          "execution_count": 7
        }
      ]
    },
    {
      "cell_type": "code",
      "source": [
        "iris.keys()"
      ],
      "metadata": {
        "id": "c0O_c4NbszRB",
        "outputId": "0a0cb6d8-cb87-46b6-c664-71a1450c5055",
        "colab": {
          "base_uri": "https://localhost:8080/"
        }
      },
      "execution_count": 8,
      "outputs": [
        {
          "output_type": "execute_result",
          "data": {
            "text/plain": [
              "dict_keys(['data', 'target', 'frame', 'target_names', 'DESCR', 'feature_names', 'filename', 'data_module'])"
            ]
          },
          "metadata": {},
          "execution_count": 8
        }
      ]
    },
    {
      "cell_type": "code",
      "source": [
        "iris.feature_names"
      ],
      "metadata": {
        "id": "XkmoHDx8s5lk",
        "outputId": "78088957-8d76-4cdf-ca4e-e7a3086967fc",
        "colab": {
          "base_uri": "https://localhost:8080/"
        }
      },
      "execution_count": 9,
      "outputs": [
        {
          "output_type": "execute_result",
          "data": {
            "text/plain": [
              "['sepal length (cm)',\n",
              " 'sepal width (cm)',\n",
              " 'petal length (cm)',\n",
              " 'petal width (cm)']"
            ]
          },
          "metadata": {},
          "execution_count": 9
        }
      ]
    },
    {
      "cell_type": "code",
      "source": [
        "iris.target_names"
      ],
      "metadata": {
        "id": "p1VDy5FHtJdj",
        "outputId": "975dee06-2654-4e0f-ac91-5f6d8aad6994",
        "colab": {
          "base_uri": "https://localhost:8080/"
        }
      },
      "execution_count": 10,
      "outputs": [
        {
          "output_type": "execute_result",
          "data": {
            "text/plain": [
              "array(['setosa', 'versicolor', 'virginica'], dtype='<U10')"
            ]
          },
          "metadata": {},
          "execution_count": 10
        }
      ]
    },
    {
      "cell_type": "code",
      "source": [
        "X[:5], y[:5]"
      ],
      "metadata": {
        "id": "1MZwLd6ot9DQ",
        "outputId": "92b61681-bfaf-4ba7-b24b-899ff0a2e54d",
        "colab": {
          "base_uri": "https://localhost:8080/"
        }
      },
      "execution_count": 11,
      "outputs": [
        {
          "output_type": "execute_result",
          "data": {
            "text/plain": [
              "(array([[1.4, 0.2],\n",
              "        [1.4, 0.2],\n",
              "        [1.3, 0.2],\n",
              "        [1.5, 0.2],\n",
              "        [1.4, 0.2]]),\n",
              " array([1, 1, 1, 1, 1]))"
            ]
          },
          "metadata": {},
          "execution_count": 11
        }
      ]
    },
    {
      "cell_type": "markdown",
      "metadata": {
        "id": "tHSOeAjkUNmH"
      },
      "source": [
        "Scikit-Learn’s Perceptron class is equivalent to using an SGDClassifier with the following hyperparameters: loss=\"perceptron\", learning_rate=\"constant\", eta0=1 (the learning rate), and penalty=None (no regularization).\n",
        "\n",
        "One of the weaknesses of Perceptrons is that they are incapable of solving some trivial problems (e.g., the Exclusive OR (XOR) classification problem; shown on the left side of the figure given below.\n",
        "\n",
        "But this limitation can be eliminated by stacking multiple Perceptrons. The resulting ANN is called a **Multilayer Perceptron (MLP)**.\n",
        "\n",
        "An MLP can solve the XOR problem, as we can verify by computing the output of the MLP represented on the right side of the figure given below:\n",
        "\n",
        "* with inputs (0, 0) or (1, 1), the network outputs 0, and\n",
        "* with inputs (0, 1) or (1, 0) it outputs 1.\n",
        "\n",
        "All connections have a weight equal to 1, except the four connections where the weight is shown.\n",
        "\n",
        "<center>\n",
        "<img src=\"https://www.oreilly.com/api/v2/epubs/9781492037354/files/assets/mlst_1006.png\" width= 500px/>\n",
        "</center>\n",
        "\n",
        "$\\hspace{8cm} \\text {XOR problem}\\hspace{5 cm} \\text {MLP}$\n",
        "<br><br>"
      ]
    },
    {
      "cell_type": "markdown",
      "metadata": {
        "id": "U8KluZzIUNmI"
      },
      "source": [
        "### The Multilayer Perceptron and Backpropagation"
      ]
    },
    {
      "cell_type": "markdown",
      "metadata": {
        "id": "mZksrPLyUNmI"
      },
      "source": [
        "An MLP is composed of\n",
        "\n",
        "* one (passthrough) **input layer**,\n",
        "* one or more layers of TLUs called **hidden layers**, and\n",
        "* one final layer of TLUs called the **output layer** as shown in the figure below.\n",
        "\n",
        "The layers close to the input layer are usually called the lower layers, and the ones close to the outputs are usually called the upper layers. Every layer except the output layer includes a **bias neuron** and is fully connected to the next layer.\n",
        "\n",
        "<center>\n",
        "<img src=\"https://www.oreilly.com/api/v2/epubs/9781492037354/files/assets/mlst_1007.png\" width= 500px/>\n",
        "</center>\n",
        "\n",
        "When an ANN contains a deep stack of hidden layers, it is called a **deep neural network (DNN)**. The field of Deep Learning studies DNNs, and more generally models containing deep stacks of computations.\n",
        "\n",
        "MLPs are trained using **backpropagation training algorithm**.\n",
        "\n",
        "In short, it is Gradient Descent using an efficient technique for computing the gradients automatically: in just two passes through the network (one forward, one backward), the backpropagation algorithm is able to compute the gradient of the network’s error with regard to every single model parameter.\n",
        "\n",
        "In other words, it can find out how each connection weight and each bias term should be tweaked in order to reduce the error. Once it has these gradients, it just performs a regular Gradient Descent step, and the whole process is repeated until the network converges to the solution.\n",
        "\n",
        "Let’s run through this algorithm in detail:\n",
        "\n",
        "* It handles one mini-batch at a time (say, containing 32 instances each), and it goes through the full training set multiple times. Each pass is called an **epoch**.\n",
        "\n",
        "* Each mini-batch is passed to the network’s **input layer**, which sends it to the first **hidden layer**. The algorithm then computes the output of all the neurons in this layer (for every instance in the mini-batch). The result is passed on to the next layer, its output is computed and passed to the next layer, and so on until we get the output of the last layer, the **output layer**. This is the **forward pass**: it is exactly like making predictions, except all intermediate results are preserved since they are needed for the backward pass.\n",
        "\n",
        "* Next, the algorithm measures the network’s output error (i.e., it uses a loss function that compares the desired output and the actual output of the network, and returns some measure of the error).\n",
        "\n",
        "* Then it computes how much each output connection contributed to the error.\n",
        "This is done analytically by applying the chain rule, which makes this step fast and precise.\n",
        "\n",
        "* The algorithm then measures how much of these error contributions came from\n",
        "each connection in the layer below, again using the chain rule, working backward\n",
        "until the algorithm reaches the input layer. As explained earlier, this reverse pass efficiently measures the error gradient across all the connection weights in the network by propagating the error gradient backward through the network.\n",
        "\n",
        "* Finally, the algorithm performs a Gradient Descent step to tweak all the connection weights in the network, using the error gradients it just computed.\n",
        "\n",
        "Let's summarize this algorithm again: for each training instance, the backpropagation algorithm first makes a prediction (**forward pass**) and measures the error, then goes through each layer in reverse to measure the error contribution from each connection (**reverse pass**), and finally tweaks the connection weights to reduce the error (Gradient Descent step).\n",
        "\n",
        "In order for this algorithm to work properly, the step function was replaced with an activation function."
      ]
    },
    {
      "cell_type": "markdown",
      "metadata": {
        "id": "rU4U0ZONUNmI"
      },
      "source": [
        "### Activation Functions"
      ]
    },
    {
      "cell_type": "markdown",
      "metadata": {
        "id": "oiC5tHMRUNmI"
      },
      "source": [
        "Replacing the step function with the activation function was essential because the step function contains only flat segments, so there is no gradient to work with (Gradient Descent cannot move on a flat surface), while the activation function has a well-defined nonzero derivative, allowing Gradient Descent to make some progress at every step.\n",
        "\n",
        "Some of the activation functions are shown below:\n",
        "\n",
        "* **Logistic (sigmoid) function:**\n",
        "\n",
        "$$σ(z) = \\frac{1}{1 + exp(–z)}$$\n",
        "\n",
        "It is an S-shaped function, exists between $0$ to $1$. Therefore, it is especially used for models where we have to predict the probability as an output. The function is differentiable.\n",
        "That means, we can find the slope of the sigmoid curve at any two points.\n",
        "\n",
        "* **Hyperbolic tangent function:**\n",
        "\n",
        "$$tanh(z) = 2σ(2z) – 1 = \\frac{2}{1 + exp(–2z)} - 1$$\n",
        "\n",
        "Just like the logistic function, this activation function is S-shaped, continuous, and differentiable, but its output value ranges from $–1$ to $1$. That range tends to make each layer’s output more or less centered around $0$ at the beginning of training, which often helps speed up convergence.\n",
        "\n",
        "* **Rectified Linear Unit function:**\n",
        "\n",
        "$$ReLU(z) = max(0, z)$$\n",
        "\n",
        "The ReLU function is continuous but unfortunately not differentiable at $z = 0$\n",
        "(the slope changes abruptly, which can make Gradient Descent bounce around),\n",
        "and its derivative is $0$ for $z < 0$. In practice, however, it works very well and has the advantage of being fast to compute, so it has become the default. Most importantly, the fact that it does not have a maximum output value helps reduce some issues during Gradient Descent.\n",
        "\n",
        "These popular activation functions and their derivatives are represented in\n",
        "the figure below.\n",
        "<br><br>\n",
        "<center>\n",
        "<img src=\"https://www.oreilly.com/api/v2/epubs/9781492037354/files/assets/mlst_1008.png\" width=700px/>\n",
        "</center>\n",
        "<br><br>\n",
        "\n",
        "**Why do we need activation functions?**\n",
        "\n",
        "If we chain several linear transformations, all we get is a linear transformation. For example, if $f(x) = 2x + 3$ and $g(x) = 5x – 1$, then chaining these two linear functions gives you another linear function: $f(g(x)) = 2(5x – 1) + 3 = 10x + 1.$\n",
        "\n",
        "So if we don’t have some nonlinearity between layers, then even a deep stack of layers is equivalent to a single layer, and we can’t solve very complex problems with that. Conversely, a large enough DNN with nonlinear activations can theoretically approximate any continuous function.\n",
        "\n",
        "Training a DNN is not an easy task. Let's see what difficulties we may encounter during that process."
      ]
    },
    {
      "cell_type": "markdown",
      "metadata": {
        "id": "eChoS2HgUNmI"
      },
      "source": [
        "### Gradient Issues"
      ]
    },
    {
      "cell_type": "markdown",
      "metadata": {
        "id": "Cu8bAUaaUNmJ"
      },
      "source": [
        "Some of the problems we could run into while training a deep DNN are:\n",
        "\n",
        "* **vanishing gradients** when the gradients grow smaller and smaller,\n",
        "\n",
        "* **exploding gradients** when the gradients grow larger and larger,\n",
        "\n",
        "when flowing backward through the DNN during training. Both of these problems make lower layers very hard to train.\n",
        "\n",
        "Once the backpropagation algorithm has computed the gradient of the cost function with regard to each parameter in the network, it uses these gradients to update each parameter with a Gradient Descent step.\n",
        "\n",
        "Unfortunately, gradients often get smaller and smaller as the algorithm progresses down to the lower layers. As a result, the Gradient Descent update leaves the lower layers’ connection weights virtually unchanged, and training never converges to a good solution. We call this the **vanishing gradients** problem. In some cases, the opposite can happen: the gradients can grow bigger and bigger until layers get insanely large weight updates and the algorithm diverges. This is the **exploding gradients** problem, which surfaces in recurrent neural networks. More generally, deep neural networks suffer from unstable gradients; different layers may learn at widely different speeds.\n",
        "\n",
        "In 2010 it was discovered the problem was with the popular logistic sigmoid activation function and the weight initialization technique (i.e., a normal distribution with a mean of $0$ and a standard deviation of $1$).\n",
        "\n",
        "Looking at the logistic activation function shown in the figure below, we can see that when inputs become large (negative or positive), the function saturates at $0$ or $1$, with a derivative extremely close to $0$. Thus, when backpropagation comes in it has virtually no gradient to propagate back through the network; and what little gradient exists keeps getting diluted as backpropagation progresses down through the top layers, so there is nothing left for the lower layers.\n",
        "<br><br>\n",
        "<center>\n",
        "<img src=\"https://www.simplilearn.com/ice9/free_resources_article_thumb/gradients-in-sigmoid-activation-functions.jpg\" width= 450px/>\n",
        "</center>\n"
      ]
    },
    {
      "cell_type": "markdown",
      "metadata": {
        "id": "vpqSnuwNUNmJ"
      },
      "source": [
        "In their paper, Glorot and Bengio proposed: the connection weights of each layer must be initialized randomly to significantly alleviate the unstable gradients problem. This initialization strategy is called **Xavier initialization** or **Glorot initialization**, after the paper’s first author.\n",
        "\n",
        "Glorot initialization (when using the logistic activation function):\n",
        "\n",
        "Normal distribution with mean 0 and variance $σ^2 = \\frac{1}{fan_{avg}}$\n",
        "\n",
        "Or a uniform distribution between $−r$ and $+r$, with $r = \\sqrt{\\frac{3}{fan_{avg}}}$\n",
        "\n",
        "where $fan_{avg} = \\frac{fan_{in} + fan_{out}}{2}$,\n",
        "\n",
        "$fan_{in}$ and $fan_{out}$ are the number of inputs and neurons of the layer.\n",
        "\n",
        "Similar strategies for different activation functions differ only by the scale of the variance and whether they use $fan_{avg}$ or $fan_{in}$, as shown in the table below (for the uniform distribution, just compute $r = \\sqrt{3σ^2}$).\n",
        "\n",
        "The initialization strategy for the ReLU activation function and its variants is sometimes called **He initialization**.\n",
        "\n",
        "| Initialization | Activation functions          | $\\sigma ^2$ Normal |\n",
        "|:---------------|:------------------------------|:-------------------|\n",
        "| Glorot         | None, tanh, logistic, softmax | $1$/$fan_{avg}$    |\n",
        "| He             | ReLU and variants             | $2$/$fan_{avg}$    |\n",
        "\n",
        "By default, Keras uses Glorot initialization with a uniform distribution. When creating a layer, we can change this to He initialization by setting `kernel_initializer=\"he_uniform\"` or `kernel_initializer=\"he_normal\"`.\n"
      ]
    },
    {
      "cell_type": "markdown",
      "metadata": {
        "id": "B_ey0gh9UNmJ"
      },
      "source": [
        "### MLP Classifiers"
      ]
    },
    {
      "cell_type": "markdown",
      "metadata": {
        "id": "Uwx1h5H2UNmJ"
      },
      "source": [
        "MLPs can be used for classification and regression tasks. In classification, they can perform (i) Binary Classification (ii) Multilabel Binary Classification, and (iii) Multiclass classification\n",
        "\n",
        "* **Binary classification:** Used when there are only two distinct classes and the data we want to classify belongs exclusively to one of those classes, e.g. classifying if a review sentiment is positive or negative.\n",
        "\n",
        "* **Multilabel binary classification:** Used when there are two or more classes and the data we want to classify belongs to none of the classes or all of them at the same time, e.g. classifying which traffic signs are shown in an image.\n",
        "\n",
        "  Note that the output probabilities do not necessarily add up to 1. This lets the model output any combination of labels\n",
        "\n",
        "* **Multiclass classification:** Used when there are three or more classes and the data we want to classify belongs exclusively to one of those classes, e.g.  out of three or more possible classes (e.g., classes 0 through 9 for digit image classification), we need to have one output neuron per class, and we should use the **softmax activation function** for the whole output layer as shown in the figure below. The softmax function will ensure that all the estimated probabilities are between $0$ and $1$ and that they add up to $1$.\n",
        "<br><br>\n",
        "<center>\n",
        "<img src=\"https://www.oreilly.com/api/v2/epubs/9781492037354/files/assets/mlst_1009.png\" width=500px/>\n",
        "</center>\n",
        "\n",
        "Regarding the loss function, since we are predicting probability distributions, the cross-entropy loss (also called the log loss) is generally a good choice."
      ]
    },
    {
      "cell_type": "markdown",
      "metadata": {
        "id": "kMPHSAZkUNmJ"
      },
      "source": [
        "### Building an Image Classifier Using the Sequential API"
      ]
    },
    {
      "cell_type": "markdown",
      "metadata": {
        "id": "Wa4NA08wUNmK"
      },
      "source": [
        "Here we consider the Fashion MNIST dataset. It has the same format as MNIST (70,000 grayscale images of 28 × 28 pixels each, with 10 classes), but the images represent fashion items rather than handwritten digits, so each class is more diverse, and the problem turns out to be significantly more challenging than MNIST."
      ]
    },
    {
      "cell_type": "code",
      "source": [
        "fashion_mnist = keras.datasets.fashion_mnist"
      ],
      "metadata": {
        "id": "3VzjLO-zzfTf"
      },
      "execution_count": 12,
      "outputs": []
    },
    {
      "cell_type": "code",
      "source": [
        "fashion_mnist"
      ],
      "metadata": {
        "id": "Au-dVpwazhZM",
        "outputId": "d2c31c10-9c37-4183-e637-d1717918af20",
        "colab": {
          "base_uri": "https://localhost:8080/"
        }
      },
      "execution_count": 13,
      "outputs": [
        {
          "output_type": "execute_result",
          "data": {
            "text/plain": [
              "<module 'keras.api.datasets.fashion_mnist' from '/usr/local/lib/python3.11/dist-packages/keras/api/datasets/fashion_mnist/__init__.py'>"
            ]
          },
          "metadata": {},
          "execution_count": 13
        }
      ]
    },
    {
      "cell_type": "code",
      "source": [],
      "metadata": {
        "id": "HJzwy6IIzmyz"
      },
      "execution_count": 13,
      "outputs": []
    },
    {
      "cell_type": "code",
      "metadata": {
        "id": "ARPWU1DpUNmK",
        "outputId": "1e7715e8-35ba-4a66-98f1-64bba4cc1d21",
        "colab": {
          "base_uri": "https://localhost:8080/"
        }
      },
      "source": [
        "# Using Keras to load the dataset\n",
        "fashion_mnist = keras.datasets.fashion_mnist\n",
        "(X_train_full, y_train_full), (X_test, y_test) = fashion_mnist.load_data()\n"
      ],
      "execution_count": 14,
      "outputs": [
        {
          "output_type": "stream",
          "name": "stdout",
          "text": [
            "Downloading data from https://storage.googleapis.com/tensorflow/tf-keras-datasets/train-labels-idx1-ubyte.gz\n",
            "\u001b[1m29515/29515\u001b[0m \u001b[32m━━━━━━━━━━━━━━━━━━━━\u001b[0m\u001b[37m\u001b[0m \u001b[1m0s\u001b[0m 0us/step\n",
            "Downloading data from https://storage.googleapis.com/tensorflow/tf-keras-datasets/train-images-idx3-ubyte.gz\n",
            "\u001b[1m26421880/26421880\u001b[0m \u001b[32m━━━━━━━━━━━━━━━━━━━━\u001b[0m\u001b[37m\u001b[0m \u001b[1m0s\u001b[0m 0us/step\n",
            "Downloading data from https://storage.googleapis.com/tensorflow/tf-keras-datasets/t10k-labels-idx1-ubyte.gz\n",
            "\u001b[1m5148/5148\u001b[0m \u001b[32m━━━━━━━━━━━━━━━━━━━━\u001b[0m\u001b[37m\u001b[0m \u001b[1m0s\u001b[0m 1us/step\n",
            "Downloading data from https://storage.googleapis.com/tensorflow/tf-keras-datasets/t10k-images-idx3-ubyte.gz\n",
            "\u001b[1m4422102/4422102\u001b[0m \u001b[32m━━━━━━━━━━━━━━━━━━━━\u001b[0m\u001b[37m\u001b[0m \u001b[1m0s\u001b[0m 0us/step\n"
          ]
        }
      ]
    },
    {
      "cell_type": "code",
      "source": [
        "X_train_full.shape, y_train_full.shape, X_test.shape, y_test.shape"
      ],
      "metadata": {
        "id": "ckbN330xz_K8",
        "outputId": "8b1dd869-fda0-47c8-812a-30c23ac1d70e",
        "colab": {
          "base_uri": "https://localhost:8080/"
        }
      },
      "execution_count": 15,
      "outputs": [
        {
          "output_type": "execute_result",
          "data": {
            "text/plain": [
              "((60000, 28, 28), (60000,), (10000, 28, 28), (10000,))"
            ]
          },
          "metadata": {},
          "execution_count": 15
        }
      ]
    },
    {
      "cell_type": "code",
      "source": [
        "type(X_train_full)"
      ],
      "metadata": {
        "id": "hc1EIFzX0c9k",
        "outputId": "a6c60a53-8de2-4819-8802-75ba3d275d8a",
        "colab": {
          "base_uri": "https://localhost:8080/"
        }
      },
      "execution_count": 16,
      "outputs": [
        {
          "output_type": "execute_result",
          "data": {
            "text/plain": [
              "numpy.ndarray"
            ]
          },
          "metadata": {},
          "execution_count": 16
        }
      ]
    },
    {
      "cell_type": "code",
      "source": [
        "X_train_full[0:5]"
      ],
      "metadata": {
        "id": "2ew4sSNaz-X8",
        "outputId": "46ec18ab-d7c9-4ab5-de22-5f1ef2bdeb52",
        "colab": {
          "base_uri": "https://localhost:8080/"
        }
      },
      "execution_count": 17,
      "outputs": [
        {
          "output_type": "execute_result",
          "data": {
            "text/plain": [
              "array([[[0, 0, 0, ..., 0, 0, 0],\n",
              "        [0, 0, 0, ..., 0, 0, 0],\n",
              "        [0, 0, 0, ..., 0, 0, 0],\n",
              "        ...,\n",
              "        [0, 0, 0, ..., 0, 0, 0],\n",
              "        [0, 0, 0, ..., 0, 0, 0],\n",
              "        [0, 0, 0, ..., 0, 0, 0]],\n",
              "\n",
              "       [[0, 0, 0, ..., 0, 0, 0],\n",
              "        [0, 0, 0, ..., 0, 0, 0],\n",
              "        [0, 0, 0, ..., 0, 0, 0],\n",
              "        ...,\n",
              "        [0, 0, 0, ..., 0, 0, 0],\n",
              "        [0, 0, 0, ..., 0, 0, 0],\n",
              "        [0, 0, 0, ..., 0, 0, 0]],\n",
              "\n",
              "       [[0, 0, 0, ..., 0, 0, 0],\n",
              "        [0, 0, 0, ..., 0, 0, 0],\n",
              "        [0, 0, 0, ..., 0, 0, 0],\n",
              "        ...,\n",
              "        [0, 0, 0, ..., 0, 0, 0],\n",
              "        [0, 0, 0, ..., 0, 0, 0],\n",
              "        [0, 0, 0, ..., 0, 0, 0]],\n",
              "\n",
              "       [[0, 0, 0, ..., 0, 0, 0],\n",
              "        [0, 0, 0, ..., 0, 0, 0],\n",
              "        [0, 0, 0, ..., 0, 0, 0],\n",
              "        ...,\n",
              "        [0, 0, 0, ..., 0, 0, 0],\n",
              "        [0, 0, 0, ..., 0, 0, 0],\n",
              "        [0, 0, 0, ..., 0, 0, 0]],\n",
              "\n",
              "       [[0, 0, 0, ..., 0, 0, 0],\n",
              "        [0, 0, 0, ..., 0, 0, 0],\n",
              "        [0, 0, 0, ..., 0, 0, 0],\n",
              "        ...,\n",
              "        [0, 0, 0, ..., 0, 0, 0],\n",
              "        [0, 0, 0, ..., 0, 0, 0],\n",
              "        [0, 0, 0, ..., 0, 0, 0]]], dtype=uint8)"
            ]
          },
          "metadata": {},
          "execution_count": 17
        }
      ]
    },
    {
      "cell_type": "code",
      "metadata": {
        "id": "pJQAox8qUNmK",
        "outputId": "9c9aebab-5afe-4874-d854-30b6192c2e6b",
        "colab": {
          "base_uri": "https://localhost:8080/"
        }
      },
      "source": [
        "# Shape and datatype of X_train_full\n",
        "# YOUR CODE HERE\n",
        "print(f\"X_train_full has shape: {X_train_full.shape} and type: {type(X_train_full)}\")"
      ],
      "execution_count": 18,
      "outputs": [
        {
          "output_type": "stream",
          "name": "stdout",
          "text": [
            "X_train_full has shape: (60000, 28, 28) and type: <class 'numpy.ndarray'>\n"
          ]
        }
      ]
    },
    {
      "cell_type": "markdown",
      "metadata": {
        "id": "hYUIpYB8UNmK"
      },
      "source": [
        "Note that the dataset is already split into a training set and a test set, but there is no validation set, so we’ll create one now. Additionally, since we are going to train the neural network using Gradient Descent, we must scale the input features. For simplicity, we’ll scale the pixel intensities down to the 0–1 range by dividing them by 255.0:"
      ]
    },
    {
      "cell_type": "code",
      "metadata": {
        "id": "-PWLthKwUNmK"
      },
      "source": [
        "# Validation set and scaling\n",
        "X_valid = X_train_full[:5000] / 255.0\n",
        "X_train = X_train_full[5000:] / 255.0\n",
        "\n",
        "y_valid = y_train_full[:5000]\n",
        "y_train = y_train_full[5000:]"
      ],
      "execution_count": 19,
      "outputs": []
    },
    {
      "cell_type": "markdown",
      "metadata": {
        "id": "sBtXrFZAUNmK"
      },
      "source": [
        "With MNIST, when the label is equal to 5, it means that the image represents the\n",
        "handwritten digit 5. For Fashion MNIST, however, we need the list of class\n",
        "names to know what we are dealing with:"
      ]
    },
    {
      "cell_type": "code",
      "metadata": {
        "id": "da1cMIQhUNmL",
        "outputId": "cdd9064c-ab86-4cef-9fc0-edc4e2f5ef40",
        "colab": {
          "base_uri": "https://localhost:8080/",
          "height": 35
        }
      },
      "source": [
        "# List of labels\n",
        "class_names = [\"T-shirt/top\", \"Trouser\", \"Pullover\", \"Dress\", \"Coat\", \"Sandal\", \"Shirt\", \"Sneaker\", \"Bag\", \"Ankle boot\"]\n",
        "\n",
        "# First image in the training set\n",
        "class_names[y_train[0]]"
      ],
      "execution_count": 20,
      "outputs": [
        {
          "output_type": "execute_result",
          "data": {
            "text/plain": [
              "'Coat'"
            ],
            "application/vnd.google.colaboratory.intrinsic+json": {
              "type": "string"
            }
          },
          "metadata": {},
          "execution_count": 20
        }
      ]
    },
    {
      "cell_type": "markdown",
      "metadata": {
        "id": "WRd-gAW2UNmL"
      },
      "source": [
        "**Creating the model using the Sequential API**\n",
        "\n",
        "Here is a classification MLP with two hidden layers:"
      ]
    },
    {
      "cell_type": "code",
      "metadata": {
        "id": "7PN3orqbUNmL",
        "outputId": "e9a2781d-5ce5-4b40-f11a-9b2660d1c4ed",
        "colab": {
          "base_uri": "https://localhost:8080/"
        }
      },
      "source": [
        "# Create model with 2 hidden layers and one output layer\n",
        "model = Sequential()\n",
        "model = Sequential()\n",
        "model.add(Flatten(input_shape=[28,28]))\n",
        "model.add(Dense(300, activation= \"relu\"))\n",
        "\n",
        "# YOUR CODE HERE to add a Dense layer with 100 neurons and activation=\"relu\"\n",
        "model.add(Dense(100, activation=\"relu\"))\n",
        "# YOUR CODE HERE to add a Dense layer with 10 neurons and activation=\"softmax\"\n",
        "model.add(Dense(10, activation='softmax'))"
      ],
      "execution_count": 21,
      "outputs": [
        {
          "output_type": "stream",
          "name": "stderr",
          "text": [
            "/usr/local/lib/python3.11/dist-packages/keras/src/layers/reshaping/flatten.py:37: UserWarning: Do not pass an `input_shape`/`input_dim` argument to a layer. When using Sequential models, prefer using an `Input(shape)` object as the first layer in the model instead.\n",
            "  super().__init__(**kwargs)\n"
          ]
        }
      ]
    },
    {
      "cell_type": "markdown",
      "metadata": {
        "id": "caNaKaqWUNmL"
      },
      "source": [
        "Let’s go through the above code line by line:\n",
        "\n",
        "* The first line creates a Sequential model. This is the simplest kind of Keras\n",
        "model for neural networks that are just composed of a single stack of layers connected sequentially. This is called the Sequential API.\n",
        "\n",
        "* Next, we build the first layer and add it to the model. It is a Flatten layer whose role is to convert each input image into a 1D array: if it receives input data X, it computes X.reshape(-1, 1). This layer does not have any parameters; it is just there to do some simple preprocessing. Since it is the first layer in the model, we should specify the input_shape, which doesn’t include the batch size, only the shape of the instances. Alternatively, we could add a `keras.layers.InputLayer` as the first layer, setting input_shape=[28,28].\n",
        "\n",
        "* Next, we add a Dense hidden layer with 300 neurons. It will use the ReLU activation function. Each Dense layer manages its own weight matrix, containing all the connection weights between the neurons and their inputs. It also manages a vector of bias terms (one per neuron). When it receives some input data, it computes $h_{W, b}(X) = ϕ( XW + b)$.\n",
        "\n",
        "* Then we add a second Dense hidden layer with 100 neurons, also using the ReLU\n",
        "activation function.\n",
        "\n",
        "* Finally, we add a Dense output layer with 10 neurons (one per class), using the softmax activation function (because the classes are exclusive).\n",
        "\n",
        "Instead of adding the layers one by one we can pass a list of layers when creating the Sequential model:\n"
      ]
    },
    {
      "cell_type": "code",
      "metadata": {
        "id": "nL6fK7WiUNmL"
      },
      "source": [
        "# Create model with 2 hidden layers and one output layer\n",
        "\n",
        "model = Sequential([\n",
        "                    Flatten(input_shape=[28, 28]),\n",
        "                    Dense(300, activation=\"relu\"),\n",
        "                    # YOUR CODE HERE to add a Dense layer with 100 neurons and activation=\"relu\"\n",
        "                    Dense(100, activation='relu'),\n",
        "                    Dense(10, activation=\"softmax\")\n",
        "                    ])"
      ],
      "execution_count": 22,
      "outputs": []
    },
    {
      "cell_type": "markdown",
      "metadata": {
        "id": "tTPvvL1cUNmL"
      },
      "source": [
        "The model’s `summary()` method displays all the model’s layers, including each layer’s name, its output shape (None means the batch size can be anything), and its number of parameters. The summary ends with the total number of parameters, including trainable and non-trainable parameters. Here we only have trainable parameters."
      ]
    },
    {
      "cell_type": "code",
      "metadata": {
        "id": "reKEBMErUNmL",
        "outputId": "20bdc5e4-f1fe-43f4-b037-550bbdbabbcf",
        "colab": {
          "base_uri": "https://localhost:8080/",
          "height": 272
        }
      },
      "source": [
        "# Summary of model\n",
        "model.summary()"
      ],
      "execution_count": 23,
      "outputs": [
        {
          "output_type": "display_data",
          "data": {
            "text/plain": [
              "\u001b[1mModel: \"sequential_2\"\u001b[0m\n"
            ],
            "text/html": [
              "<pre style=\"white-space:pre;overflow-x:auto;line-height:normal;font-family:Menlo,'DejaVu Sans Mono',consolas,'Courier New',monospace\"><span style=\"font-weight: bold\">Model: \"sequential_2\"</span>\n",
              "</pre>\n"
            ]
          },
          "metadata": {}
        },
        {
          "output_type": "display_data",
          "data": {
            "text/plain": [
              "┏━━━━━━━━━━━━━━━━━━━━━━━━━━━━━━━━━━━━━━┳━━━━━━━━━━━━━━━━━━━━━━━━━━━━━┳━━━━━━━━━━━━━━━━━┓\n",
              "┃\u001b[1m \u001b[0m\u001b[1mLayer (type)                        \u001b[0m\u001b[1m \u001b[0m┃\u001b[1m \u001b[0m\u001b[1mOutput Shape               \u001b[0m\u001b[1m \u001b[0m┃\u001b[1m \u001b[0m\u001b[1m        Param #\u001b[0m\u001b[1m \u001b[0m┃\n",
              "┡━━━━━━━━━━━━━━━━━━━━━━━━━━━━━━━━━━━━━━╇━━━━━━━━━━━━━━━━━━━━━━━━━━━━━╇━━━━━━━━━━━━━━━━━┩\n",
              "│ flatten_1 (\u001b[38;5;33mFlatten\u001b[0m)                  │ (\u001b[38;5;45mNone\u001b[0m, \u001b[38;5;34m784\u001b[0m)                 │               \u001b[38;5;34m0\u001b[0m │\n",
              "├──────────────────────────────────────┼─────────────────────────────┼─────────────────┤\n",
              "│ dense_3 (\u001b[38;5;33mDense\u001b[0m)                      │ (\u001b[38;5;45mNone\u001b[0m, \u001b[38;5;34m300\u001b[0m)                 │         \u001b[38;5;34m235,500\u001b[0m │\n",
              "├──────────────────────────────────────┼─────────────────────────────┼─────────────────┤\n",
              "│ dense_4 (\u001b[38;5;33mDense\u001b[0m)                      │ (\u001b[38;5;45mNone\u001b[0m, \u001b[38;5;34m100\u001b[0m)                 │          \u001b[38;5;34m30,100\u001b[0m │\n",
              "├──────────────────────────────────────┼─────────────────────────────┼─────────────────┤\n",
              "│ dense_5 (\u001b[38;5;33mDense\u001b[0m)                      │ (\u001b[38;5;45mNone\u001b[0m, \u001b[38;5;34m10\u001b[0m)                  │           \u001b[38;5;34m1,010\u001b[0m │\n",
              "└──────────────────────────────────────┴─────────────────────────────┴─────────────────┘\n"
            ],
            "text/html": [
              "<pre style=\"white-space:pre;overflow-x:auto;line-height:normal;font-family:Menlo,'DejaVu Sans Mono',consolas,'Courier New',monospace\">┏━━━━━━━━━━━━━━━━━━━━━━━━━━━━━━━━━━━━━━┳━━━━━━━━━━━━━━━━━━━━━━━━━━━━━┳━━━━━━━━━━━━━━━━━┓\n",
              "┃<span style=\"font-weight: bold\"> Layer (type)                         </span>┃<span style=\"font-weight: bold\"> Output Shape                </span>┃<span style=\"font-weight: bold\">         Param # </span>┃\n",
              "┡━━━━━━━━━━━━━━━━━━━━━━━━━━━━━━━━━━━━━━╇━━━━━━━━━━━━━━━━━━━━━━━━━━━━━╇━━━━━━━━━━━━━━━━━┩\n",
              "│ flatten_1 (<span style=\"color: #0087ff; text-decoration-color: #0087ff\">Flatten</span>)                  │ (<span style=\"color: #00d7ff; text-decoration-color: #00d7ff\">None</span>, <span style=\"color: #00af00; text-decoration-color: #00af00\">784</span>)                 │               <span style=\"color: #00af00; text-decoration-color: #00af00\">0</span> │\n",
              "├──────────────────────────────────────┼─────────────────────────────┼─────────────────┤\n",
              "│ dense_3 (<span style=\"color: #0087ff; text-decoration-color: #0087ff\">Dense</span>)                      │ (<span style=\"color: #00d7ff; text-decoration-color: #00d7ff\">None</span>, <span style=\"color: #00af00; text-decoration-color: #00af00\">300</span>)                 │         <span style=\"color: #00af00; text-decoration-color: #00af00\">235,500</span> │\n",
              "├──────────────────────────────────────┼─────────────────────────────┼─────────────────┤\n",
              "│ dense_4 (<span style=\"color: #0087ff; text-decoration-color: #0087ff\">Dense</span>)                      │ (<span style=\"color: #00d7ff; text-decoration-color: #00d7ff\">None</span>, <span style=\"color: #00af00; text-decoration-color: #00af00\">100</span>)                 │          <span style=\"color: #00af00; text-decoration-color: #00af00\">30,100</span> │\n",
              "├──────────────────────────────────────┼─────────────────────────────┼─────────────────┤\n",
              "│ dense_5 (<span style=\"color: #0087ff; text-decoration-color: #0087ff\">Dense</span>)                      │ (<span style=\"color: #00d7ff; text-decoration-color: #00d7ff\">None</span>, <span style=\"color: #00af00; text-decoration-color: #00af00\">10</span>)                  │           <span style=\"color: #00af00; text-decoration-color: #00af00\">1,010</span> │\n",
              "└──────────────────────────────────────┴─────────────────────────────┴─────────────────┘\n",
              "</pre>\n"
            ]
          },
          "metadata": {}
        },
        {
          "output_type": "display_data",
          "data": {
            "text/plain": [
              "\u001b[1m Total params: \u001b[0m\u001b[38;5;34m266,610\u001b[0m (1.02 MB)\n"
            ],
            "text/html": [
              "<pre style=\"white-space:pre;overflow-x:auto;line-height:normal;font-family:Menlo,'DejaVu Sans Mono',consolas,'Courier New',monospace\"><span style=\"font-weight: bold\"> Total params: </span><span style=\"color: #00af00; text-decoration-color: #00af00\">266,610</span> (1.02 MB)\n",
              "</pre>\n"
            ]
          },
          "metadata": {}
        },
        {
          "output_type": "display_data",
          "data": {
            "text/plain": [
              "\u001b[1m Trainable params: \u001b[0m\u001b[38;5;34m266,610\u001b[0m (1.02 MB)\n"
            ],
            "text/html": [
              "<pre style=\"white-space:pre;overflow-x:auto;line-height:normal;font-family:Menlo,'DejaVu Sans Mono',consolas,'Courier New',monospace\"><span style=\"font-weight: bold\"> Trainable params: </span><span style=\"color: #00af00; text-decoration-color: #00af00\">266,610</span> (1.02 MB)\n",
              "</pre>\n"
            ]
          },
          "metadata": {}
        },
        {
          "output_type": "display_data",
          "data": {
            "text/plain": [
              "\u001b[1m Non-trainable params: \u001b[0m\u001b[38;5;34m0\u001b[0m (0.00 B)\n"
            ],
            "text/html": [
              "<pre style=\"white-space:pre;overflow-x:auto;line-height:normal;font-family:Menlo,'DejaVu Sans Mono',consolas,'Courier New',monospace\"><span style=\"font-weight: bold\"> Non-trainable params: </span><span style=\"color: #00af00; text-decoration-color: #00af00\">0</span> (0.00 B)\n",
              "</pre>\n"
            ]
          },
          "metadata": {}
        }
      ]
    },
    {
      "cell_type": "markdown",
      "metadata": {
        "id": "x4wlf6WLUNmM"
      },
      "source": [
        "**Compiling the model**\n",
        "\n",
        "After a model is created, we must call its `compile()` method to specify the loss function and the optimizer to use."
      ]
    },
    {
      "cell_type": "code",
      "metadata": {
        "id": "NUObYWaCUNmM"
      },
      "source": [
        "# Compile model\n",
        "model.compile(loss=\"sparse_categorical_crossentropy\",\n",
        "              optimizer=\"sgd\",\n",
        "              metrics=[\"accuracy\"]\n",
        "              )"
      ],
      "execution_count": 24,
      "outputs": []
    },
    {
      "cell_type": "markdown",
      "metadata": {
        "id": "Xqho50J7UNmM"
      },
      "source": [
        "In the above code cell,\n",
        "\n",
        "* first, we use the **\"sparse_categorical_crossentropy\"** loss because we have sparse labels (i.e., for each instance, there is just a target class index, from 0 to 9 in this case), and the classes are exclusive. If instead, we had one target probability per class for each instance (such as one-hot vectors, e.g. [0., 0., 0., 1., 0., 0., 0., 0., 0., 0.] to represent class 3), then we would need to use the \"categorical_crossentropy\" loss instead. If we were doing binary classification (with one or more binary labels), then we would use the \"sigmoid\" activation function in the output layer instead of the \"softmax\" activation function, and we would use the \"binary_crossentropy\" loss.\n",
        "\n",
        "* Regarding the optimizer, **\"sgd\"** means that we will train the model using simple Stochastic Gradient Descent.\n",
        "\n",
        "* Finally, since this is a classifier, it’s useful to measure its **\"accuracy\"** during training and evaluation."
      ]
    },
    {
      "cell_type": "markdown",
      "metadata": {
        "id": "r5w_4VMhUNmM"
      },
      "source": [
        "**Training and evaluating the model**\n"
      ]
    },
    {
      "cell_type": "code",
      "metadata": {
        "id": "PDaejclVUNmM",
        "outputId": "02cbf893-4824-4d91-e95f-12c1a797b5df",
        "colab": {
          "base_uri": "https://localhost:8080/"
        }
      },
      "source": [
        "# Training model on Training set\n",
        "\n",
        "history = model.fit(X_train, y_train, epochs=30, validation_data = (X_valid, y_valid))"
      ],
      "execution_count": 25,
      "outputs": [
        {
          "output_type": "stream",
          "name": "stdout",
          "text": [
            "Epoch 1/30\n",
            "\u001b[1m1719/1719\u001b[0m \u001b[32m━━━━━━━━━━━━━━━━━━━━\u001b[0m\u001b[37m\u001b[0m \u001b[1m10s\u001b[0m 5ms/step - accuracy: 0.6841 - loss: 1.0083 - val_accuracy: 0.8250 - val_loss: 0.5185\n",
            "Epoch 2/30\n",
            "\u001b[1m1719/1719\u001b[0m \u001b[32m━━━━━━━━━━━━━━━━━━━━\u001b[0m\u001b[37m\u001b[0m \u001b[1m5s\u001b[0m 2ms/step - accuracy: 0.8274 - loss: 0.5059 - val_accuracy: 0.8290 - val_loss: 0.4671\n",
            "Epoch 3/30\n",
            "\u001b[1m1719/1719\u001b[0m \u001b[32m━━━━━━━━━━━━━━━━━━━━\u001b[0m\u001b[37m\u001b[0m \u001b[1m4s\u001b[0m 2ms/step - accuracy: 0.8394 - loss: 0.4574 - val_accuracy: 0.8460 - val_loss: 0.4336\n",
            "Epoch 4/30\n",
            "\u001b[1m1719/1719\u001b[0m \u001b[32m━━━━━━━━━━━━━━━━━━━━\u001b[0m\u001b[37m\u001b[0m \u001b[1m4s\u001b[0m 2ms/step - accuracy: 0.8567 - loss: 0.4157 - val_accuracy: 0.8510 - val_loss: 0.4207\n",
            "Epoch 5/30\n",
            "\u001b[1m1719/1719\u001b[0m \u001b[32m━━━━━━━━━━━━━━━━━━━━\u001b[0m\u001b[37m\u001b[0m \u001b[1m4s\u001b[0m 2ms/step - accuracy: 0.8598 - loss: 0.3975 - val_accuracy: 0.8588 - val_loss: 0.4167\n",
            "Epoch 6/30\n",
            "\u001b[1m1719/1719\u001b[0m \u001b[32m━━━━━━━━━━━━━━━━━━━━\u001b[0m\u001b[37m\u001b[0m \u001b[1m5s\u001b[0m 2ms/step - accuracy: 0.8636 - loss: 0.3837 - val_accuracy: 0.8644 - val_loss: 0.3892\n",
            "Epoch 7/30\n",
            "\u001b[1m1719/1719\u001b[0m \u001b[32m━━━━━━━━━━━━━━━━━━━━\u001b[0m\u001b[37m\u001b[0m \u001b[1m4s\u001b[0m 2ms/step - accuracy: 0.8707 - loss: 0.3693 - val_accuracy: 0.8706 - val_loss: 0.3678\n",
            "Epoch 8/30\n",
            "\u001b[1m1719/1719\u001b[0m \u001b[32m━━━━━━━━━━━━━━━━━━━━\u001b[0m\u001b[37m\u001b[0m \u001b[1m4s\u001b[0m 2ms/step - accuracy: 0.8726 - loss: 0.3572 - val_accuracy: 0.8634 - val_loss: 0.3732\n",
            "Epoch 9/30\n",
            "\u001b[1m1719/1719\u001b[0m \u001b[32m━━━━━━━━━━━━━━━━━━━━\u001b[0m\u001b[37m\u001b[0m \u001b[1m6s\u001b[0m 3ms/step - accuracy: 0.8789 - loss: 0.3413 - val_accuracy: 0.8766 - val_loss: 0.3528\n",
            "Epoch 10/30\n",
            "\u001b[1m1719/1719\u001b[0m \u001b[32m━━━━━━━━━━━━━━━━━━━━\u001b[0m\u001b[37m\u001b[0m \u001b[1m7s\u001b[0m 4ms/step - accuracy: 0.8786 - loss: 0.3398 - val_accuracy: 0.8630 - val_loss: 0.3790\n",
            "Epoch 11/30\n",
            "\u001b[1m1719/1719\u001b[0m \u001b[32m━━━━━━━━━━━━━━━━━━━━\u001b[0m\u001b[37m\u001b[0m \u001b[1m4s\u001b[0m 2ms/step - accuracy: 0.8855 - loss: 0.3270 - val_accuracy: 0.8770 - val_loss: 0.3447\n",
            "Epoch 12/30\n",
            "\u001b[1m1719/1719\u001b[0m \u001b[32m━━━━━━━━━━━━━━━━━━━━\u001b[0m\u001b[37m\u001b[0m \u001b[1m4s\u001b[0m 2ms/step - accuracy: 0.8834 - loss: 0.3259 - val_accuracy: 0.8768 - val_loss: 0.3501\n",
            "Epoch 13/30\n",
            "\u001b[1m1719/1719\u001b[0m \u001b[32m━━━━━━━━━━━━━━━━━━━━\u001b[0m\u001b[37m\u001b[0m \u001b[1m6s\u001b[0m 2ms/step - accuracy: 0.8888 - loss: 0.3125 - val_accuracy: 0.8706 - val_loss: 0.3571\n",
            "Epoch 14/30\n",
            "\u001b[1m1719/1719\u001b[0m \u001b[32m━━━━━━━━━━━━━━━━━━━━\u001b[0m\u001b[37m\u001b[0m \u001b[1m4s\u001b[0m 2ms/step - accuracy: 0.8896 - loss: 0.3117 - val_accuracy: 0.8834 - val_loss: 0.3299\n",
            "Epoch 15/30\n",
            "\u001b[1m1719/1719\u001b[0m \u001b[32m━━━━━━━━━━━━━━━━━━━━\u001b[0m\u001b[37m\u001b[0m \u001b[1m4s\u001b[0m 2ms/step - accuracy: 0.8924 - loss: 0.2959 - val_accuracy: 0.8814 - val_loss: 0.3355\n",
            "Epoch 16/30\n",
            "\u001b[1m1719/1719\u001b[0m \u001b[32m━━━━━━━━━━━━━━━━━━━━\u001b[0m\u001b[37m\u001b[0m \u001b[1m4s\u001b[0m 2ms/step - accuracy: 0.8942 - loss: 0.2919 - val_accuracy: 0.8890 - val_loss: 0.3167\n",
            "Epoch 17/30\n",
            "\u001b[1m1719/1719\u001b[0m \u001b[32m━━━━━━━━━━━━━━━━━━━━\u001b[0m\u001b[37m\u001b[0m \u001b[1m5s\u001b[0m 2ms/step - accuracy: 0.8949 - loss: 0.2909 - val_accuracy: 0.8828 - val_loss: 0.3252\n",
            "Epoch 18/30\n",
            "\u001b[1m1719/1719\u001b[0m \u001b[32m━━━━━━━━━━━━━━━━━━━━\u001b[0m\u001b[37m\u001b[0m \u001b[1m6s\u001b[0m 2ms/step - accuracy: 0.8982 - loss: 0.2823 - val_accuracy: 0.8886 - val_loss: 0.3126\n",
            "Epoch 19/30\n",
            "\u001b[1m1719/1719\u001b[0m \u001b[32m━━━━━━━━━━━━━━━━━━━━\u001b[0m\u001b[37m\u001b[0m \u001b[1m4s\u001b[0m 2ms/step - accuracy: 0.8990 - loss: 0.2788 - val_accuracy: 0.8894 - val_loss: 0.3123\n",
            "Epoch 20/30\n",
            "\u001b[1m1719/1719\u001b[0m \u001b[32m━━━━━━━━━━━━━━━━━━━━\u001b[0m\u001b[37m\u001b[0m \u001b[1m6s\u001b[0m 2ms/step - accuracy: 0.9045 - loss: 0.2730 - val_accuracy: 0.8898 - val_loss: 0.3115\n",
            "Epoch 21/30\n",
            "\u001b[1m1719/1719\u001b[0m \u001b[32m━━━━━━━━━━━━━━━━━━━━\u001b[0m\u001b[37m\u001b[0m \u001b[1m4s\u001b[0m 2ms/step - accuracy: 0.9043 - loss: 0.2662 - val_accuracy: 0.8890 - val_loss: 0.3126\n",
            "Epoch 22/30\n",
            "\u001b[1m1719/1719\u001b[0m \u001b[32m━━━━━━━━━━━━━━━━━━━━\u001b[0m\u001b[37m\u001b[0m \u001b[1m5s\u001b[0m 2ms/step - accuracy: 0.9061 - loss: 0.2622 - val_accuracy: 0.8786 - val_loss: 0.3289\n",
            "Epoch 23/30\n",
            "\u001b[1m1719/1719\u001b[0m \u001b[32m━━━━━━━━━━━━━━━━━━━━\u001b[0m\u001b[37m\u001b[0m \u001b[1m5s\u001b[0m 2ms/step - accuracy: 0.9087 - loss: 0.2566 - val_accuracy: 0.8910 - val_loss: 0.3087\n",
            "Epoch 24/30\n",
            "\u001b[1m1719/1719\u001b[0m \u001b[32m━━━━━━━━━━━━━━━━━━━━\u001b[0m\u001b[37m\u001b[0m \u001b[1m4s\u001b[0m 2ms/step - accuracy: 0.9076 - loss: 0.2533 - val_accuracy: 0.8892 - val_loss: 0.3076\n",
            "Epoch 25/30\n",
            "\u001b[1m1719/1719\u001b[0m \u001b[32m━━━━━━━━━━━━━━━━━━━━\u001b[0m\u001b[37m\u001b[0m \u001b[1m6s\u001b[0m 3ms/step - accuracy: 0.9096 - loss: 0.2525 - val_accuracy: 0.8936 - val_loss: 0.2968\n",
            "Epoch 26/30\n",
            "\u001b[1m1719/1719\u001b[0m \u001b[32m━━━━━━━━━━━━━━━━━━━━\u001b[0m\u001b[37m\u001b[0m \u001b[1m4s\u001b[0m 2ms/step - accuracy: 0.9136 - loss: 0.2439 - val_accuracy: 0.8956 - val_loss: 0.2995\n",
            "Epoch 27/30\n",
            "\u001b[1m1719/1719\u001b[0m \u001b[32m━━━━━━━━━━━━━━━━━━━━\u001b[0m\u001b[37m\u001b[0m \u001b[1m4s\u001b[0m 2ms/step - accuracy: 0.9150 - loss: 0.2345 - val_accuracy: 0.8932 - val_loss: 0.3008\n",
            "Epoch 28/30\n",
            "\u001b[1m1719/1719\u001b[0m \u001b[32m━━━━━━━━━━━━━━━━━━━━\u001b[0m\u001b[37m\u001b[0m \u001b[1m5s\u001b[0m 2ms/step - accuracy: 0.9162 - loss: 0.2331 - val_accuracy: 0.8920 - val_loss: 0.3033\n",
            "Epoch 29/30\n",
            "\u001b[1m1719/1719\u001b[0m \u001b[32m━━━━━━━━━━━━━━━━━━━━\u001b[0m\u001b[37m\u001b[0m \u001b[1m5s\u001b[0m 2ms/step - accuracy: 0.9143 - loss: 0.2341 - val_accuracy: 0.8934 - val_loss: 0.2986\n",
            "Epoch 30/30\n",
            "\u001b[1m1719/1719\u001b[0m \u001b[32m━━━━━━━━━━━━━━━━━━━━\u001b[0m\u001b[37m\u001b[0m \u001b[1m4s\u001b[0m 2ms/step - accuracy: 0.9171 - loss: 0.2302 - val_accuracy: 0.8964 - val_loss: 0.2919\n"
          ]
        }
      ]
    },
    {
      "cell_type": "markdown",
      "metadata": {
        "id": "f_-VeynWUNmM"
      },
      "source": [
        "The `fit()` method returns a History object containing the training parameters\n",
        "(`history.params`), the list of epochs it went through (`history.epoch`), and most importantly a dictionary (`history.history`) containing the loss and extra metrics it measured at the end of each epoch on the training set and on the validation set (if any).\n",
        "\n",
        "Let's plot the learning curves:"
      ]
    },
    {
      "cell_type": "code",
      "source": [
        "history.params"
      ],
      "metadata": {
        "id": "DEw1bGlkCda1",
        "outputId": "0c12b265-1794-4c9e-cd1a-66f12791d92f",
        "colab": {
          "base_uri": "https://localhost:8080/"
        }
      },
      "execution_count": 26,
      "outputs": [
        {
          "output_type": "execute_result",
          "data": {
            "text/plain": [
              "{'verbose': 'auto', 'epochs': 30, 'steps': 1719}"
            ]
          },
          "metadata": {},
          "execution_count": 26
        }
      ]
    },
    {
      "cell_type": "markdown",
      "source": [
        "These parameters control the training process of your Keras model:\n",
        "\n",
        "verbose: determines how much output is displayed during training.\n",
        "epochs: sets the number of times the model will be trained on the entire dataset.\n",
        "steps: controls the number of batches processed per epoch (usually calculated automatically)."
      ],
      "metadata": {
        "id": "tC20USg9DGPr"
      }
    },
    {
      "cell_type": "code",
      "source": [
        "print(history.epoch)"
      ],
      "metadata": {
        "id": "N8Jn1Wv-DIK8",
        "outputId": "88445239-6c58-4b2c-a1e5-16459f6404b4",
        "colab": {
          "base_uri": "https://localhost:8080/"
        }
      },
      "execution_count": 27,
      "outputs": [
        {
          "output_type": "stream",
          "name": "stdout",
          "text": [
            "[0, 1, 2, 3, 4, 5, 6, 7, 8, 9, 10, 11, 12, 13, 14, 15, 16, 17, 18, 19, 20, 21, 22, 23, 24, 25, 26, 27, 28, 29]\n"
          ]
        }
      ]
    },
    {
      "cell_type": "code",
      "source": [
        "print(history.history)"
      ],
      "metadata": {
        "id": "2G-m7pEkDPZb",
        "outputId": "ae7c780a-a71f-46c4-f1c3-e1ae16142bca",
        "colab": {
          "base_uri": "https://localhost:8080/"
        }
      },
      "execution_count": 28,
      "outputs": [
        {
          "output_type": "stream",
          "name": "stdout",
          "text": [
            "{'accuracy': [0.7616545557975769, 0.8303454518318176, 0.8431817889213562, 0.8542545437812805, 0.8596727252006531, 0.8658909201622009, 0.8715999722480774, 0.8739818334579468, 0.8776363730430603, 0.8803091049194336, 0.8848181962966919, 0.885381817817688, 0.8891090750694275, 0.8915272951126099, 0.8931090831756592, 0.8950545191764832, 0.8967454433441162, 0.8989090919494629, 0.9001636505126953, 0.9033091068267822, 0.9035999774932861, 0.9059090614318848, 0.908018171787262, 0.9082545638084412, 0.9100727438926697, 0.9119454622268677, 0.9126545190811157, 0.9148545265197754, 0.9163636565208435, 0.9168545603752136], 'loss': [0.7295796871185303, 0.4892531633377075, 0.44631320238113403, 0.4181218147277832, 0.3966732323169708, 0.38100817799568176, 0.367862343788147, 0.35616180300712585, 0.3443778455257416, 0.33600902557373047, 0.3269425928592682, 0.31903496384620667, 0.31171971559524536, 0.30498161911964417, 0.29815059900283813, 0.2922007441520691, 0.2869817614555359, 0.28119269013404846, 0.27658528089523315, 0.2708476483821869, 0.2674178183078766, 0.26103681325912476, 0.2563643157482147, 0.25330623984336853, 0.2484748810529709, 0.24484561383724213, 0.24060042202472687, 0.235281839966774, 0.23290756344795227, 0.22832681238651276], 'val_accuracy': [0.824999988079071, 0.8289999961853027, 0.8460000157356262, 0.8510000109672546, 0.8587999939918518, 0.8644000291824341, 0.8705999851226807, 0.8633999824523926, 0.8766000270843506, 0.8629999756813049, 0.8769999742507935, 0.876800000667572, 0.8705999851226807, 0.883400022983551, 0.8813999891281128, 0.8889999985694885, 0.8827999830245972, 0.8885999917984009, 0.8894000053405762, 0.8898000121116638, 0.8889999985694885, 0.878600001335144, 0.890999972820282, 0.88919997215271, 0.8935999870300293, 0.8956000208854675, 0.8931999802589417, 0.8920000195503235, 0.8934000134468079, 0.896399974822998], 'val_loss': [0.5185458064079285, 0.4671379327774048, 0.4335630238056183, 0.4207150340080261, 0.4167446792125702, 0.3892265260219574, 0.3678123354911804, 0.37319472432136536, 0.3528420031070709, 0.3789815306663513, 0.3447183668613434, 0.3501484990119934, 0.357054740190506, 0.3299367129802704, 0.3355153501033783, 0.31669291853904724, 0.3251621425151825, 0.31264549493789673, 0.3122795820236206, 0.3114947974681854, 0.3126196563243866, 0.32886961102485657, 0.30873215198516846, 0.307571142911911, 0.29676732420921326, 0.29953497648239136, 0.3008408844470978, 0.3032776713371277, 0.2985777258872986, 0.2918841242790222]}\n"
          ]
        }
      ]
    },
    {
      "cell_type": "code",
      "metadata": {
        "id": "RI4BnS5xUNmN",
        "outputId": "c6e38ae4-a09c-41e0-f14e-8eccf9b5f852",
        "colab": {
          "base_uri": "https://localhost:8080/",
          "height": 682
        }
      },
      "source": [
        "# Visualize training and validation metrics\n",
        "df = pd.DataFrame(history.history)\n",
        "df= pd.DataFrame(history.history)\n",
        "df.plot(figsize=(10,8))\n",
        "plt.grid(True)\n",
        "# set the vertical range to [0-1]\n",
        "plt.gca().set_ylim(0, 1)\n",
        "plt.show()"
      ],
      "execution_count": 29,
      "outputs": [
        {
          "output_type": "display_data",
          "data": {
            "text/plain": [
              "<Figure size 1000x800 with 1 Axes>"
            ],
            "image/png": "[encoded data removed]"
          },
          "metadata": {}
        }
      ]
    },
    {
      "cell_type": "markdown",
      "metadata": {
        "id": "fnnR_Ow7UNmN"
      },
      "source": [
        "We can see that both the training accuracy and the validation accuracy steadily\n",
        "increase during training, while the training loss and the validation loss decrease. Moreover, the validation curves are close to the training curves, which means that there is not too much overfitting.\n",
        "\n",
        "Once we are satisfied with the model’s validation accuracy, we should evaluate it on the test set to estimate the generalization error before we deploy the model to production. We can easily do this using the `evaluate()` method:"
      ]
    },
    {
      "cell_type": "code",
      "metadata": {
        "id": "QaJZC6zPUNmN",
        "outputId": "4c4f22d7-5995-4e64-b521-dfac58498073",
        "colab": {
          "base_uri": "https://localhost:8080/"
        }
      },
      "source": [
        "# Model performance on test set\n",
        "# YOUR CODE HERE using 'model' to evaluate(X_test, y_test)\n",
        "model.evaluate(X_test,y_test)"
      ],
      "execution_count": 30,
      "outputs": [
        {
          "output_type": "stream",
          "name": "stdout",
          "text": [
            "\u001b[1m313/313\u001b[0m \u001b[32m━━━━━━━━━━━━━━━━━━━━\u001b[0m\u001b[37m\u001b[0m \u001b[1m1s\u001b[0m 1ms/step - accuracy: 0.8484 - loss: 60.4508\n"
          ]
        },
        {
          "output_type": "execute_result",
          "data": {
            "text/plain": [
              "[63.16849899291992, 0.843999981880188]"
            ]
          },
          "metadata": {},
          "execution_count": 30
        }
      ]
    },
    {
      "cell_type": "markdown",
      "source": [
        "how can i improve this accuracy and reduce the loss?\n",
        "\n",
        "Okay, let's explore some strategies to improve the accuracy and reduce the loss of your model:\n",
        "\n",
        "Techniques to Improve Accuracy and Reduce Loss:\n",
        "Hyperparameter Tuning:\n",
        "\n",
        "Learning Rate: Experiment with different learning rates for the optimizer (e.g., 'sgd'). A lower learning rate might help the model converge to a better solution, but it will take longer to train. You can try values like 0.01, 0.001, or even smaller.\n",
        "\n",
        "# Example with SGD optimizer and learning rate 0.001\n",
        "   from tensorflow.keras.optimizers import SGD\n",
        "   optimizer = SGD(learning_rate=0.001)\n",
        "   model.compile(loss=\"sparse_categorical_crossentropy\", optimizer=optimizer, metrics=[\"accuracy\"])\n",
        "Use code with caution\n",
        "Batch Size: Adjust the batch size in model.fit(). Smaller batch sizes introduce more noise during training, which can sometimes help the model escape local minima and find better solutions. Larger batch sizes can lead to faster training but might get stuck in suboptimal solutions.\n",
        "\n",
        "Number of Epochs: Train the model for more epochs. Sometimes, the model needs more iterations over the training data to learn the patterns effectively. However, be careful of overfitting if the validation accuracy starts to decrease.\n",
        "\n",
        "Optimizer: Try different optimizers like Adam, RMSprop, or others. These optimizers often have better convergence properties than standard SGD.\n",
        "\n",
        "\n",
        "# Example with Adam optimizer\n",
        "   model.compile(loss=\"sparse_categorical_crossentropy\", optimizer=\"adam\", metrics=[\"accuracy\"])\n",
        "Use code with caution\n",
        "Model Architecture:\n",
        "\n",
        "Add More Layers: Consider adding more hidden layers to your model to increase its capacity to learn complex patterns.\n",
        "Increase Neurons: Increase the number of neurons in the existing hidden layers to provide the model with more flexibility.\n",
        "Regularization: Apply regularization techniques like dropout or L1/L2 regularization to prevent overfitting. Dropout randomly drops out neurons during training, forcing the network to learn more robust features. L1/L2 regularization adds penalties to the loss function to discourage large weights.\n",
        "\n",
        "from tensorflow.keras.layers import Dropout\n",
        "   \n",
        "   model = Sequential([\n",
        "                       Flatten(input_shape=[28, 28]),\n",
        "                       Dense(300, activation=\"relu\"),\n",
        "                       Dropout(0.2),  # Add dropout with a rate of 0.2\n",
        "                       Dense(100, activation='relu'),\n",
        "                       Dense(10, activation=\"softmax\")\n",
        "                       ])\n",
        "Use code with caution\n",
        "Data Preprocessing:\n",
        "\n",
        "Data Augmentation: Increase the size of your training dataset using techniques like image rotation, flipping, or zooming to introduce more variety and reduce overfitting. Keras provides the ImageDataGenerator class for this purpose.\n",
        "\n",
        "from tensorflow.keras.preprocessing.image import ImageDataGenerator\n",
        "\n",
        "   datagen = ImageDataGenerator(\n",
        "       rotation_range=10,  # Rotate images by up to 10 degrees\n",
        "       width_shift_range=0.1,  # Shift images horizontally by up to 10% of the width\n",
        "       height_shift_range=0.1,  # Shift images vertically by up to 10% of the height\n",
        "       shear_range=0.2,  # Apply shear transformations\n",
        "       zoom_range=0.2,  # Zoom in or out by up to 20%\n",
        "       horizontal_flip=True  # Flip images horizontally\n",
        "   )\n",
        "\n",
        "   history = model.fit(datagen.flow(X_train, y_train, batch_size=32), epochs=30, validation_data=(X_valid, y_valid))\n",
        "Use code with caution\n",
        "Feature Scaling: Ensure that your features are properly scaled. You're already dividing pixel intensities by 255.0, but you can also explore other scaling techniques like standardization (using StandardScaler from scikit-learn).\n",
        "Early Stopping: Implement early stopping to prevent overfitting. Early stopping monitors the validation loss and stops training when the loss stops improving for a certain number of epochs.\n",
        "\n",
        "from tensorflow.keras.callbacks import EarlyStopping\n",
        "   \n",
        "   early_stopping = EarlyStopping(monitor='val_loss', patience=3) # Stop if validation loss doesn't improve for 3 epochs\n",
        "   history = model.fit(X_train, y_train, epochs=30, validation_data=(X_valid, y_valid), callbacks=[early_stopping])\n",
        "Use code with caution\n",
        "Experiment and Iterate:\n",
        "The key to improving your model is to experiment with these techniques and see what works best for your specific dataset and task. Carefully monitor your training and validation metrics to make informed decisions about the changes you make. Start with smaller adjustments and gradually increase the complexity as needed. Good luck!"
      ],
      "metadata": {
        "id": "iidqYakrGHTi"
      }
    },
    {
      "cell_type": "markdown",
      "metadata": {
        "id": "DWA6HUC1UNmO"
      },
      "source": [
        "**Using the model to make predictions**\n",
        "\n",
        "We can use the model’s `predict()` method to make predictions on new instances."
      ]
    },
    {
      "cell_type": "code",
      "metadata": {
        "id": "-QYxeL6iUNmO",
        "outputId": "6e095d0c-91f7-4003-f5ea-1eb7d15bc2d7",
        "colab": {
          "base_uri": "https://localhost:8080/"
        }
      },
      "source": [
        "# Predict class probabilities for first three instances of X_test\n",
        "X_new = X_test[:3]\n",
        "# YOUR CODE HERE to create 'y_proba' using 'model' to predict(X_new)\n",
        "y_proba= model.predict(X_new)\n",
        "y_proba.round(2)"
      ],
      "execution_count": 31,
      "outputs": [
        {
          "output_type": "stream",
          "name": "stdout",
          "text": [
            "\u001b[1m1/1\u001b[0m \u001b[32m━━━━━━━━━━━━━━━━━━━━\u001b[0m\u001b[37m\u001b[0m \u001b[1m0s\u001b[0m 54ms/step\n"
          ]
        },
        {
          "output_type": "execute_result",
          "data": {
            "text/plain": [
              "array([[0., 0., 0., 0., 0., 0., 0., 0., 0., 1.],\n",
              "       [0., 0., 1., 0., 0., 0., 0., 0., 0., 0.],\n",
              "       [0., 1., 0., 0., 0., 0., 0., 0., 0., 0.]], dtype=float32)"
            ]
          },
          "metadata": {},
          "execution_count": 31
        }
      ]
    },
    {
      "cell_type": "code",
      "source": [
        "y_proba"
      ],
      "metadata": {
        "id": "kAuLjjMfGj4J",
        "outputId": "95444580-a0fc-45af-c657-17d9f99654ce",
        "colab": {
          "base_uri": "https://localhost:8080/"
        }
      },
      "execution_count": 32,
      "outputs": [
        {
          "output_type": "execute_result",
          "data": {
            "text/plain": [
              "array([[0., 0., 0., 0., 0., 0., 0., 0., 0., 1.],\n",
              "       [0., 0., 1., 0., 0., 0., 0., 0., 0., 0.],\n",
              "       [0., 1., 0., 0., 0., 0., 0., 0., 0., 0.]], dtype=float32)"
            ]
          },
          "metadata": {},
          "execution_count": 32
        }
      ]
    },
    {
      "cell_type": "code",
      "source": [
        "class_names[np.argmax(y_proba)]"
      ],
      "metadata": {
        "id": "4zQY0Om1Gcbh",
        "outputId": "6381489c-bdad-40f5-d0c1-458bebeb1250",
        "colab": {
          "base_uri": "https://localhost:8080/",
          "height": 35
        }
      },
      "execution_count": 33,
      "outputs": [
        {
          "output_type": "execute_result",
          "data": {
            "text/plain": [
              "'Ankle boot'"
            ],
            "application/vnd.google.colaboratory.intrinsic+json": {
              "type": "string"
            }
          },
          "metadata": {},
          "execution_count": 33
        }
      ]
    },
    {
      "cell_type": "code",
      "source": [
        "np.argmax(y_proba, axis=-1)"
      ],
      "metadata": {
        "id": "Ha4A28eQG9Sh",
        "outputId": "16f0a848-58c2-49e9-d811-f821621bde88",
        "colab": {
          "base_uri": "https://localhost:8080/"
        }
      },
      "execution_count": 34,
      "outputs": [
        {
          "output_type": "execute_result",
          "data": {
            "text/plain": [
              "array([9, 2, 1])"
            ]
          },
          "metadata": {},
          "execution_count": 34
        }
      ]
    },
    {
      "cell_type": "code",
      "source": [
        "predicted_labels= [class_names[x] for x in np.argmax(y_proba, axis=-1)]"
      ],
      "metadata": {
        "id": "RDmU8WXQHimE"
      },
      "execution_count": 35,
      "outputs": []
    },
    {
      "cell_type": "code",
      "source": [
        "predicted_labels"
      ],
      "metadata": {
        "id": "WmS_mfz8IR5G",
        "outputId": "b168d3d8-7e12-41d2-b452-ce28eac6083f",
        "colab": {
          "base_uri": "https://localhost:8080/"
        }
      },
      "execution_count": 36,
      "outputs": [
        {
          "output_type": "execute_result",
          "data": {
            "text/plain": [
              "['Ankle boot', 'Pullover', 'Trouser']"
            ]
          },
          "metadata": {},
          "execution_count": 36
        }
      ]
    },
    {
      "cell_type": "code",
      "metadata": {
        "id": "IRVjwIzeUNmO",
        "outputId": "f03ba90b-8d63-40a6-c4ba-139d031365e8",
        "colab": {
          "base_uri": "https://localhost:8080/"
        }
      },
      "source": [
        "# Predict class labels for first three instances of X_test\n",
        "y_pred = np.argmax(model.predict(X_new), axis=-1)\n",
        "# YOUR CODE HERE to show 'y_pred'\n",
        "print(y_pred)\n",
        "print(np.array(class_names)[y_pred])"
      ],
      "execution_count": 37,
      "outputs": [
        {
          "output_type": "stream",
          "name": "stdout",
          "text": [
            "\u001b[1m1/1\u001b[0m \u001b[32m━━━━━━━━━━━━━━━━━━━━\u001b[0m\u001b[37m\u001b[0m \u001b[1m0s\u001b[0m 26ms/step\n",
            "[9 2 1]\n",
            "['Ankle boot' 'Pullover' 'Trouser']\n"
          ]
        }
      ]
    },
    {
      "cell_type": "code",
      "source": [
        "X_new"
      ],
      "metadata": {
        "id": "DKkW0A0IJUim",
        "outputId": "9faf0de0-1eb9-47ae-eb5d-a3a375b3269e",
        "colab": {
          "base_uri": "https://localhost:8080/"
        }
      },
      "execution_count": 38,
      "outputs": [
        {
          "output_type": "execute_result",
          "data": {
            "text/plain": [
              "array([[[0, 0, 0, ..., 0, 0, 0],\n",
              "        [0, 0, 0, ..., 0, 0, 0],\n",
              "        [0, 0, 0, ..., 0, 0, 0],\n",
              "        ...,\n",
              "        [0, 0, 0, ..., 0, 0, 0],\n",
              "        [0, 0, 0, ..., 0, 0, 0],\n",
              "        [0, 0, 0, ..., 0, 0, 0]],\n",
              "\n",
              "       [[0, 0, 0, ..., 0, 0, 0],\n",
              "        [0, 0, 0, ..., 0, 0, 0],\n",
              "        [0, 0, 0, ..., 0, 0, 0],\n",
              "        ...,\n",
              "        [0, 0, 0, ..., 0, 0, 0],\n",
              "        [0, 0, 0, ..., 0, 0, 0],\n",
              "        [0, 0, 0, ..., 0, 0, 0]],\n",
              "\n",
              "       [[0, 0, 0, ..., 0, 0, 0],\n",
              "        [0, 0, 0, ..., 0, 0, 0],\n",
              "        [0, 0, 0, ..., 0, 0, 0],\n",
              "        ...,\n",
              "        [0, 0, 0, ..., 0, 0, 0],\n",
              "        [0, 0, 0, ..., 0, 0, 0],\n",
              "        [0, 0, 0, ..., 0, 0, 0]]], dtype=uint8)"
            ]
          },
          "metadata": {},
          "execution_count": 38
        }
      ]
    },
    {
      "cell_type": "code",
      "source": [
        "np.arange(len(X_new))"
      ],
      "metadata": {
        "id": "6QkxLmkBJrAU",
        "outputId": "cb4b56f7-9bef-4dc1-b98c-bcb9850ce868",
        "colab": {
          "base_uri": "https://localhost:8080/"
        }
      },
      "execution_count": 39,
      "outputs": [
        {
          "output_type": "execute_result",
          "data": {
            "text/plain": [
              "array([0, 1, 2])"
            ]
          },
          "metadata": {},
          "execution_count": 39
        }
      ]
    },
    {
      "cell_type": "code",
      "metadata": {
        "id": "HRoOhS4AUNmO",
        "outputId": "b7497517-078a-4768-8ecd-5031f131a2d4",
        "colab": {
          "base_uri": "https://localhost:8080/",
          "height": 261
        }
      },
      "source": [
        "# Actual labels\n",
        "y_new = y_test[:3]\n",
        "# YOUR CODE HERE to show 'y_new'\n",
        "print(y_new)\n",
        "print([class_names[y] for y in y_new])\n",
        "fig, ax = plt.subplots(1,3)\n",
        "print(ax.ravel())\n",
        "for axi, i in zip(ax.ravel(), np.arange(len(X_new))):\n",
        "    axi.imshow(X_new[i], cmap='Greys')"
      ],
      "execution_count": 40,
      "outputs": [
        {
          "output_type": "stream",
          "name": "stdout",
          "text": [
            "[9 2 1]\n",
            "['Ankle boot', 'Pullover', 'Trouser']\n",
            "[<Axes: > <Axes: > <Axes: >]\n"
          ]
        },
        {
          "output_type": "display_data",
          "data": {
            "text/plain": [
              "<Figure size 640x480 with 3 Axes>"
            ],
            "image/png": "[encoded data removed]"
          },
          "metadata": {}
        }
      ]
    },
    {
      "cell_type": "markdown",
      "metadata": {
        "id": "PlbKDTz2UNmP"
      },
      "source": [
        "From the above results, we can see that the classifier actually classified all three images correctly.\n",
        "\n",
        "Let's see one example with the XOR dataset."
      ]
    },
    {
      "cell_type": "markdown",
      "metadata": {
        "id": "-SeYqgf5UNmP"
      },
      "source": [
        "**Exercise 1:** Generate the XOR dataset and perform classification using the MLPClassifier."
      ]
    },
    {
      "cell_type": "code",
      "source": [
        "x1 = np.random.uniform(1,3,50)\n",
        "x2 = np.random.uniform(4,6,50)\n",
        "y1 = np.random.uniform(1,3,50)\n",
        "y2 = np.random.uniform(4,6,50)\n",
        "\n",
        "x1.shape"
      ],
      "metadata": {
        "id": "svaT3i9v9pxk",
        "outputId": "c3abae7f-9467-4e7e-af50-2ddbd92c8a4f",
        "colab": {
          "base_uri": "https://localhost:8080/"
        }
      },
      "execution_count": 43,
      "outputs": [
        {
          "output_type": "execute_result",
          "data": {
            "text/plain": [
              "(50,)"
            ]
          },
          "metadata": {},
          "execution_count": 43
        }
      ]
    },
    {
      "cell_type": "code",
      "source": [
        "# features\n",
        "X_1= np.vstack([np.append(x1,x2), np.append(y1,y2)]).T\n",
        "print(X_1.shape)"
      ],
      "metadata": {
        "id": "CJho0K7R9wnF",
        "outputId": "0950d941-1d2f-4e23-de15-0d19226b9a23",
        "colab": {
          "base_uri": "https://localhost:8080/"
        }
      },
      "execution_count": 44,
      "outputs": [
        {
          "output_type": "stream",
          "name": "stdout",
          "text": [
            "(100, 2)\n"
          ]
        }
      ]
    },
    {
      "cell_type": "code",
      "source": [],
      "metadata": {
        "id": "qG0zMxpN--6p"
      },
      "execution_count": null,
      "outputs": []
    },
    {
      "cell_type": "code",
      "source": [
        "np.vstack([np.append(x1,x2), np.append(y1,y2)]).T[0]"
      ],
      "metadata": {
        "id": "K0KyIWp3-MAU",
        "outputId": "b572333f-5c1e-4185-90d1-63d5895340a5",
        "colab": {
          "base_uri": "https://localhost:8080/"
        }
      },
      "execution_count": 59,
      "outputs": [
        {
          "output_type": "execute_result",
          "data": {
            "text/plain": [
              "array([1.50378042, 2.83840945])"
            ]
          },
          "metadata": {},
          "execution_count": 59
        }
      ]
    },
    {
      "cell_type": "code",
      "source": [
        "y.reshape(-1,1).shape"
      ],
      "metadata": {
        "id": "gNwIcuJZBHC7",
        "outputId": "6a7788db-4acb-4370-f88b-6a71762d9308",
        "colab": {
          "base_uri": "https://localhost:8080/"
        }
      },
      "execution_count": 67,
      "outputs": [
        {
          "output_type": "execute_result",
          "data": {
            "text/plain": [
              "(200, 1)"
            ]
          },
          "metadata": {},
          "execution_count": 67
        }
      ]
    },
    {
      "cell_type": "code",
      "source": [
        "data1 = np.hstack([X,y.reshape(-1,1)])\n",
        "data1"
      ],
      "metadata": {
        "id": "olMC16AGAof4",
        "outputId": "2c56d3a7-4087-49b3-9751-3aedba2021f2",
        "colab": {
          "base_uri": "https://localhost:8080/"
        }
      },
      "execution_count": 68,
      "outputs": [
        {
          "output_type": "execute_result",
          "data": {
            "text/plain": [
              "array([[ 1.01781384,  0.42281517,  0.        ],\n",
              "       [ 0.92208593,  0.76323041,  0.        ],\n",
              "       [ 0.952958  ,  1.52558067,  0.        ],\n",
              "       [-1.44517162,  0.54348591,  1.        ],\n",
              "       [-1.46189082,  0.53289276,  1.        ],\n",
              "       [-0.64875278,  1.25903949,  1.        ],\n",
              "       [-1.38857197,  0.87288208,  1.        ],\n",
              "       [ 1.43099866,  1.39937564,  0.        ],\n",
              "       [-0.69956874,  1.21043527,  1.        ],\n",
              "       [-1.19466363, -1.12557839,  0.        ],\n",
              "       [ 0.98989783,  1.39462701,  0.        ],\n",
              "       [-0.917128  ,  1.35134211,  1.        ],\n",
              "       [ 0.48877668, -1.53980182,  1.        ],\n",
              "       [ 1.32096263, -0.33874916,  1.        ],\n",
              "       [ 0.952958  , -1.01077348,  1.        ],\n",
              "       [-0.70850102, -1.24921544,  0.        ],\n",
              "       [-1.13705982,  0.52174322,  1.        ],\n",
              "       [ 0.90134204, -0.99183183,  1.        ],\n",
              "       [ 0.82969838, -1.40819932,  1.        ],\n",
              "       [-1.18362193, -1.45941614,  0.        ],\n",
              "       [-1.32135215, -0.94984119,  0.        ],\n",
              "       [-0.94179993,  1.38627565,  1.        ],\n",
              "       [-1.23405672, -0.56521207,  0.        ],\n",
              "       [ 1.46649131, -0.56521207,  1.        ],\n",
              "       [ 0.4700304 ,  0.84670161,  0.        ],\n",
              "       [ 0.98989783, -0.62258437,  1.        ],\n",
              "       [ 0.70994091, -0.63864648,  1.        ],\n",
              "       [ 0.85653159, -1.35332022,  1.        ],\n",
              "       [-0.83163614,  0.94424551,  1.        ],\n",
              "       [-0.99812242,  1.16508386,  1.        ],\n",
              "       [-0.73797905,  1.48050017,  1.        ],\n",
              "       [-1.26735028, -1.15498637,  0.        ],\n",
              "       [-0.91902802,  1.06935814,  1.        ],\n",
              "       [-0.65724388, -0.70379596,  0.        ],\n",
              "       [ 1.31818561, -0.94984119,  1.        ],\n",
              "       [ 1.10092793, -0.4661976 ,  1.        ],\n",
              "       [-1.20711519, -1.35332022,  0.        ],\n",
              "       [-0.64875278, -0.88780566,  0.        ],\n",
              "       [ 1.25447315, -0.70576234,  1.        ],\n",
              "       [-0.52149584,  1.39462701,  1.        ],\n",
              "       [ 1.43099866, -1.33691189,  1.        ],\n",
              "       [-0.80126473,  0.37769825,  1.        ],\n",
              "       [ 0.70994091,  1.08945988,  0.        ],\n",
              "       [ 1.32096263,  1.40233804,  0.        ],\n",
              "       [-1.19244487, -0.70576234,  0.        ],\n",
              "       [ 0.82969838,  1.31399642,  0.        ],\n",
              "       [-0.67050486,  1.52558067,  1.        ],\n",
              "       [ 0.68430063,  0.58384965,  0.        ],\n",
              "       [-1.25507385,  0.96708595,  1.        ],\n",
              "       [ 0.91743467, -0.85340908,  1.        ],\n",
              "       [ 0.55576363, -0.44055247,  1.        ],\n",
              "       [-0.83163614, -0.94071946,  0.        ],\n",
              "       [ 1.12568286, -0.3353721 ,  1.        ],\n",
              "       [ 1.45502499,  0.87288208,  0.        ],\n",
              "       [-0.94179993, -0.53755465,  0.        ],\n",
              "       [-1.08565374, -1.51558524,  0.        ],\n",
              "       [ 0.9634066 ,  0.41094211,  0.        ],\n",
              "       [ 0.90134204,  0.96708595,  0.        ],\n",
              "       [-0.45878355, -1.06221594,  0.        ],\n",
              "       [-1.20711519,  0.76363415,  1.        ],\n",
              "       [-0.74888477,  1.0752651 ,  1.        ],\n",
              "       [ 1.33305448, -1.24921544,  1.        ],\n",
              "       [-1.13705982, -1.19390527,  0.        ],\n",
              "       [ 0.54900896, -0.49862393,  1.        ],\n",
              "       [ 0.91792342,  0.94424551,  0.        ],\n",
              "       [-1.38857197, -1.50486392,  0.        ],\n",
              "       [-1.19466363,  0.58384965,  1.        ],\n",
              "       [ 0.36337192, -1.19390527,  1.        ],\n",
              "       [-1.10282487, -0.959933  ,  0.        ],\n",
              "       [ 1.30503665,  1.38627565,  0.        ],\n",
              "       [ 0.83772787, -0.88780566,  1.        ],\n",
              "       [ 0.66543424, -0.47342283,  1.        ],\n",
              "       [ 0.97235062,  0.892928  ,  0.        ],\n",
              "       [-0.846208  , -0.97420427,  0.        ],\n",
              "       [ 1.34822218,  1.0752651 ,  0.        ],\n",
              "       [-0.52149584, -0.62258437,  0.        ],\n",
              "       [ 1.25447315,  1.46423265,  0.        ],\n",
              "       [-0.97397541,  1.31399642,  1.        ],\n",
              "       [ 1.42131914, -0.77361149,  1.        ],\n",
              "       [-0.35191234,  0.37816166,  1.        ],\n",
              "       [ 0.94255596,  0.54348591,  0.        ],\n",
              "       [ 1.42131914,  1.21043527,  0.        ],\n",
              "       [ 1.10092793,  1.09856858,  0.        ],\n",
              "       [-1.48479368, -1.04425034,  0.        ],\n",
              "       [ 0.97235062, -1.04425034,  1.        ],\n",
              "       [ 0.42899209,  1.43365944,  0.        ],\n",
              "       [ 1.33923162,  1.30577557,  0.        ],\n",
              "       [ 0.94205849, -1.49060577,  1.        ],\n",
              "       [-0.45878355,  0.44714693,  1.        ],\n",
              "       [-0.97397541, -1.40819932,  0.        ],\n",
              "       [ 1.08604196, -0.4025086 ,  1.        ],\n",
              "       [-0.70850102,  1.09122573,  1.        ],\n",
              "       [-1.36361858, -0.4025086 ,  0.        ],\n",
              "       [ 0.42899209, -1.45941614,  1.        ],\n",
              "       [-0.91902802, -0.86967001,  0.        ],\n",
              "       [-0.846208  ,  0.41734275,  1.        ],\n",
              "       [-0.74888477, -0.61633573,  0.        ],\n",
              "       [-0.35191234, -1.54697456,  0.        ],\n",
              "       [-1.10282487,  0.52925525,  1.        ],\n",
              "       [-0.61849176,  1.08945988,  1.        ],\n",
              "       [ 0.36337192,  0.52174322,  0.        ],\n",
              "       [ 0.54900896,  0.98565206,  0.        ],\n",
              "       [ 0.91792342, -0.94071946,  1.        ],\n",
              "       [-0.71215167,  1.40233804,  1.        ],\n",
              "       [ 1.08996323, -0.959933  ,  1.        ],\n",
              "       [ 1.45502499, -1.50486392,  1.        ],\n",
              "       [ 0.85653159,  0.76363415,  0.        ],\n",
              "       [-0.80126473, -0.73958178,  0.        ],\n",
              "       [ 1.08604196,  0.38871893,  0.        ],\n",
              "       [-0.49433208,  1.30577557,  1.        ],\n",
              "       [ 0.48877668,  1.17703955,  0.        ],\n",
              "       [ 0.9634066 , -0.7290009 ,  1.        ],\n",
              "       [-1.37270056,  0.42281517,  1.        ],\n",
              "       [ 0.97794571,  1.35134211,  0.        ],\n",
              "       [-1.19244487,  1.46423265,  1.        ],\n",
              "       [-1.4898791 ,  1.09856858,  1.        ],\n",
              "       [-1.48479368,  0.892928  ,  1.        ],\n",
              "       [ 0.68094637,  0.41734275,  0.        ],\n",
              "       [ 0.97794571, -1.43624367,  1.        ],\n",
              "       [ 0.91743467,  0.60810617,  0.        ],\n",
              "       [-0.70244198, -0.49862393,  0.        ],\n",
              "       [ 1.33305448,  1.09122573,  0.        ],\n",
              "       [ 0.84054018, -0.73958178,  1.        ],\n",
              "       [-0.62011969,  0.6060646 ,  1.        ],\n",
              "       [-1.37270056, -0.90083099,  0.        ],\n",
              "       [ 0.63138387, -0.86967001,  1.        ],\n",
              "       [-0.43141448, -1.06605691,  0.        ],\n",
              "       [-1.23405672,  1.22902617,  1.        ],\n",
              "       [ 1.29133374,  0.44714693,  0.        ],\n",
              "       [ 0.84054018,  0.37769825,  0.        ],\n",
              "       [ 1.29133374, -1.06221594,  1.        ],\n",
              "       [ 0.94205849,  0.6060646 ,  0.        ],\n",
              "       [ 0.67258271,  1.48050017,  0.        ],\n",
              "       [-1.36361858,  0.38871893,  1.        ],\n",
              "       [ 0.68094637, -0.97420427,  1.        ],\n",
              "       [ 1.46649131,  1.22902617,  0.        ],\n",
              "       [ 1.31818561,  0.76417306,  0.        ],\n",
              "       [-0.71656995,  1.17703955,  1.        ],\n",
              "       [-0.71656995, -1.53980182,  0.        ],\n",
              "       [-0.70480626,  0.80130411,  1.        ],\n",
              "       [-0.96214717,  0.53453561,  1.        ],\n",
              "       [ 0.84396396,  0.53289276,  0.        ],\n",
              "       [-0.60886002,  0.38184343,  1.        ],\n",
              "       [-1.10036233, -1.33691189,  0.        ],\n",
              "       [ 1.2689484 , -1.54697456,  1.        ],\n",
              "       [-0.76801511,  0.60810617,  1.        ],\n",
              "       [-1.46189082, -0.93065389,  0.        ],\n",
              "       [ 0.66543424,  0.80130411,  0.        ],\n",
              "       [ 0.88378767,  1.38455982,  0.        ],\n",
              "       [-1.08565374,  0.53982628,  1.        ],\n",
              "       [ 0.92208593, -1.06605691,  1.        ],\n",
              "       [-0.65724388,  1.4000719 ,  1.        ],\n",
              "       [ 0.67258271, -1.06846499,  1.        ],\n",
              "       [-0.70480626, -0.47342283,  0.        ],\n",
              "       [ 0.55576363,  0.53453561,  0.        ],\n",
              "       [-0.43141448,  0.76323041,  1.        ],\n",
              "       [-1.4898791 , -0.4661976 ,  0.        ],\n",
              "       [ 1.12568286,  0.38184343,  0.        ],\n",
              "       [-0.96214717, -0.44055247,  0.        ],\n",
              "       [ 0.29462507,  1.4000719 ,  0.        ],\n",
              "       [-0.70244198,  0.98565206,  1.        ],\n",
              "       [ 1.2689484 ,  0.37816166,  0.        ],\n",
              "       [-1.44517162, -1.03545816,  0.        ],\n",
              "       [ 0.84396396, -0.93065389,  1.        ],\n",
              "       [-1.18362193,  1.43365944,  1.        ],\n",
              "       [ 0.68430063, -1.12557839,  1.        ],\n",
              "       [ 1.34822218, -0.61633573,  1.        ],\n",
              "       [ 0.29462507, -0.70379596,  1.        ],\n",
              "       [ 1.33923162, -0.45371334,  1.        ],\n",
              "       [ 0.88378767, -0.47166368,  1.        ],\n",
              "       [-0.60886002, -0.3353721 ,  0.        ],\n",
              "       [ 1.42824956, -1.51558524,  1.        ],\n",
              "       [-0.62011969, -1.49060577,  0.        ],\n",
              "       [-1.15155044, -0.47166368,  0.        ],\n",
              "       [ 1.30503665, -0.53755465,  1.        ],\n",
              "       [ 0.33350446, -1.15848577,  1.        ],\n",
              "       [-1.15155044,  1.38455982,  1.        ],\n",
              "       [-1.21093697, -0.7290009 ,  0.        ],\n",
              "       [-0.67050486, -1.01077348,  0.        ],\n",
              "       [-0.61849176, -0.63864648,  0.        ],\n",
              "       [-1.32135215,  0.76417306,  1.        ],\n",
              "       [-0.917128  , -1.43624367,  0.        ],\n",
              "       [-0.73797905, -1.06846499,  0.        ],\n",
              "       [-0.49433208, -0.45371334,  0.        ],\n",
              "       [ 1.42824956,  0.53982628,  0.        ],\n",
              "       [-0.76801511, -0.85340908,  0.        ],\n",
              "       [-0.71215167, -0.33874916,  0.        ],\n",
              "       [-1.21093697,  0.41094211,  1.        ],\n",
              "       [ 0.63138387,  1.06935814,  0.        ],\n",
              "       [-0.99812242, -1.15848577,  0.        ],\n",
              "       [ 0.94255596, -1.03545816,  1.        ],\n",
              "       [ 0.83772787,  1.25903949,  0.        ],\n",
              "       [-0.69956874, -0.77361149,  0.        ],\n",
              "       [-1.10036233,  1.39937564,  1.        ],\n",
              "       [-1.25507385, -0.99183183,  0.        ],\n",
              "       [-1.26735028,  0.84670161,  1.        ],\n",
              "       [ 0.4700304 , -1.15498637,  1.        ],\n",
              "       [ 0.33350446,  1.16508386,  0.        ],\n",
              "       [ 1.08996323,  0.52925525,  0.        ],\n",
              "       [ 1.01781384, -0.90083099,  1.        ]])"
            ]
          },
          "metadata": {},
          "execution_count": 68
        }
      ]
    },
    {
      "cell_type": "code",
      "source": [
        "X"
      ],
      "metadata": {
        "id": "Ks19KsxSBwYY",
        "outputId": "e8e9d38c-e151-49f2-8ca0-cf05dbfdfb79",
        "colab": {
          "base_uri": "https://localhost:8080/"
        }
      },
      "execution_count": 71,
      "outputs": [
        {
          "output_type": "execute_result",
          "data": {
            "text/plain": [
              "array([[ 1.4906765 ,  1.35787578],\n",
              "       [ 1.06451805,  0.30732478],\n",
              "       [ 1.26855322,  0.57925142],\n",
              "       [ 1.25215358, -1.28452197],\n",
              "       [ 0.760581  , -0.78667085],\n",
              "       [-1.36534412, -1.310708  ],\n",
              "       [ 0.61803471,  1.0119949 ],\n",
              "       [ 0.55353359,  1.03875918],\n",
              "       [ 1.10501551,  1.08267164],\n",
              "       [-0.93096702, -0.59784555],\n",
              "       [-1.28556478,  1.26458449],\n",
              "       [-0.61879483, -0.5631008 ],\n",
              "       [ 1.4795171 ,  1.34418889],\n",
              "       [ 1.04010786,  1.41871342],\n",
              "       [-1.13356639, -1.05241214],\n",
              "       [ 1.41865955, -0.46593528],\n",
              "       [-1.37069546,  0.35371421],\n",
              "       [ 0.91723843,  0.8187783 ],\n",
              "       [ 0.96313903, -1.34532912],\n",
              "       [ 1.07153065, -1.35571098],\n",
              "       [ 1.00926436, -0.77762521],\n",
              "       [-0.58079185,  0.20684465],\n",
              "       [ 1.45947299,  1.1446816 ],\n",
              "       [-1.13356639,  1.16459437],\n",
              "       [ 1.17334596, -0.64354005],\n",
              "       [ 0.72901047,  1.25365034],\n",
              "       [-1.37671749,  1.29533695],\n",
              "       [ 0.9167559 , -1.48007908],\n",
              "       [-1.50016363,  0.81855979],\n",
              "       [-0.95119329,  0.91232392],\n",
              "       [-1.51706688, -0.69693829],\n",
              "       [-1.13547021, -0.71689355],\n",
              "       [ 0.62952231, -0.56587614],\n",
              "       [-1.50016363, -0.67154576],\n",
              "       [-1.28556478, -0.76761335],\n",
              "       [-0.38059063,  0.2121182 ],\n",
              "       [ 0.62952231,  0.91232392],\n",
              "       [-0.67079321,  1.34418889],\n",
              "       [-0.32408614, -0.78667085],\n",
              "       [-1.00803898,  1.08267164],\n",
              "       [ 0.32433104, -0.42486142],\n",
              "       [-0.45062722,  1.2490681 ],\n",
              "       [-1.37034219,  1.27036578],\n",
              "       [ 0.85477387, -1.05241214],\n",
              "       [ 1.22345844,  0.76885978],\n",
              "       [ 0.85477387,  1.16459437],\n",
              "       [ 1.22345844, -1.22751619],\n",
              "       [-1.04360223,  0.31579841],\n",
              "       [-1.37671749, -0.82676149],\n",
              "       [-1.03485052,  1.1446816 ],\n",
              "       [-1.13547021,  1.22904818],\n",
              "       [-1.06667824,  0.6026597 ],\n",
              "       [ 1.23467379,  0.27018889],\n",
              "       [-0.66704874, -0.7119807 ],\n",
              "       [ 1.35532643, -0.49543597],\n",
              "       [ 0.69608542,  0.84358873],\n",
              "       [-1.2731191 , -1.18963888],\n",
              "       [ 0.9167559 ,  0.50302746],\n",
              "       [ 0.40993982, -0.84505559],\n",
              "       [ 0.86261811, -0.79422762],\n",
              "       [-0.50133041, -1.34532912],\n",
              "       [ 1.27087604, -0.76761335],\n",
              "       [-1.26329617,  0.84358873],\n",
              "       [ 1.45932111, -1.16256388],\n",
              "       [-1.12907295, -0.54266819],\n",
              "       [-0.32408614,  1.01635487],\n",
              "       [-0.56321157,  1.35787578],\n",
              "       [ 0.82501824,  1.40465219],\n",
              "       [-0.42136313,  1.39798263],\n",
              "       [-0.64222035,  0.57925142],\n",
              "       [-0.44261202,  0.63767648],\n",
              "       [ 0.9061458 ,  1.21737992],\n",
              "       [-1.51706688,  1.06781501],\n",
              "       [-1.19737554,  1.12740624],\n",
              "       [ 0.45410789,  0.7227158 ],\n",
              "       [-1.07887767,  1.24146506],\n",
              "       [ 1.41865955,  0.31579841],\n",
              "       [ 1.18130745, -0.69693829],\n",
              "       [-0.95119329, -0.56587614],\n",
              "       [ 1.26855322, -0.51135211],\n",
              "       [-1.13042035,  1.32944471],\n",
              "       [ 1.39316733,  0.28888071],\n",
              "       [-1.06055861,  0.28888071],\n",
              "       [ 0.69337441, -1.05478877],\n",
              "       [ 1.39316733, -1.17783205],\n",
              "       [ 0.86261811,  1.12620146],\n",
              "       [ 1.00926436,  1.2490681 ],\n",
              "       [ 0.91723843, -0.54266819],\n",
              "       [-1.23695578, -1.05478877],\n",
              "       [ 0.55353359, -0.55789809],\n",
              "       [-0.42136313, -1.11945779],\n",
              "       [-1.37034219, -1.53102765],\n",
              "       [ 1.23467379, -0.5631008 ],\n",
              "       [ 0.79249983, -1.61655633],\n",
              "       [ 0.45410789, -1.26958301],\n",
              "       [ 1.49095729,  0.35371421],\n",
              "       [-0.64149975,  1.12620146],\n",
              "       [ 0.39883802,  1.27036578],\n",
              "       [ 1.25215358,  1.35738663],\n",
              "       [-1.03485052, -0.51924291],\n",
              "       [-0.52096105, -1.65223203],\n",
              "       [ 0.39883802, -1.53102765],\n",
              "       [-0.56932831,  1.3659265 ],\n",
              "       [-1.36534412,  0.97129187],\n",
              "       [-1.19811587,  0.80150858],\n",
              "       [-1.12907295,  0.8187783 ],\n",
              "       [-0.93096702,  1.43305709],\n",
              "       [-1.32602052,  1.41871342],\n",
              "       [ 1.13537272,  0.2121182 ],\n",
              "       [ 0.75054733,  1.22904818],\n",
              "       [-0.79329504,  0.76885978],\n",
              "       [-0.67079321, -0.45749506],\n",
              "       [-1.06055861, -1.17783205],\n",
              "       [ 0.82501824, -1.25518887],\n",
              "       [ 0.760581  ,  1.01635487],\n",
              "       [ 0.5353978 ,  0.80150858],\n",
              "       [ 0.35544499, -1.11945779],\n",
              "       [ 1.04010786, -1.46831819],\n",
              "       [ 1.35532643,  0.63767648],\n",
              "       [-1.37069546, -0.70608566],\n",
              "       [ 1.13537272, -0.82238272],\n",
              "       [-0.45631822, -1.16256388],\n",
              "       [-1.29025329, -0.80714115],\n",
              "       [ 0.42342373, -0.59784555],\n",
              "       [-0.58079185, -0.44933094],\n",
              "       [ 0.60541544, -1.310708  ],\n",
              "       [ 0.75054733, -0.71689355],\n",
              "       [-1.36320512,  1.35738663],\n",
              "       [-0.64222035, -0.51135211],\n",
              "       [-0.66704874,  0.51126954],\n",
              "       [-0.45631822,  0.82884404],\n",
              "       [-0.60355648, -1.08724968],\n",
              "       [-1.06984585,  1.03875918],\n",
              "       [ 1.27087604,  1.26458449],\n",
              "       [-0.44261202, -0.49543597],\n",
              "       [-0.37341493,  0.50302746],\n",
              "       [-1.29025329,  0.30732478],\n",
              "       [-0.64149975, -0.79422762],\n",
              "       [ 1.45947299, -0.51924291],\n",
              "       [-1.07887767, -1.35571098],\n",
              "       [ 0.61803471, -1.08724968],\n",
              "       [ 1.4906765 , -0.44598097],\n",
              "       [-0.56932831, -0.84505559],\n",
              "       [ 0.32433104,  1.32944471],\n",
              "       [-0.45062722, -0.77762521],\n",
              "       [-1.36320512, -1.28452197],\n",
              "       [ 1.49095729, -0.70608566],\n",
              "       [-1.04360223, -0.46593528],\n",
              "       [ 0.53685053,  0.20684465],\n",
              "       [-1.2731191 ,  1.21737992],\n",
              "       [-1.26329617, -1.44728008],\n",
              "       [ 0.69337441,  0.76238012],\n",
              "       [ 1.4795171 , -0.45749506],\n",
              "       [-0.56321157, -0.44598097],\n",
              "       [-1.06667824, -0.64354005],\n",
              "       [ 1.00146761, -0.7119807 ],\n",
              "       [ 0.60541544,  0.97129187],\n",
              "       [ 1.00146761,  0.51126954],\n",
              "       [-0.60355648,  1.0119949 ],\n",
              "       [ 0.35544499,  1.39798263],\n",
              "       [-0.56172043,  0.59613404],\n",
              "       [-1.23695578,  0.76238012],\n",
              "       [ 0.77050659,  1.12740624],\n",
              "       [ 0.72901047, -1.65223203],\n",
              "       [ 0.62208901, -0.67154576],\n",
              "       [ 0.77050659, -0.94833488],\n",
              "       [ 1.06451805, -0.80714115],\n",
              "       [-0.50133041,  0.72307303],\n",
              "       [-1.13042035, -0.42486142],\n",
              "       [ 0.69608542, -1.44728008],\n",
              "       [-1.00803898, -1.16657324],\n",
              "       [ 1.18130745,  1.06781501],\n",
              "       [-1.25033336,  1.40465219],\n",
              "       [-1.19737554, -0.94833488],\n",
              "       [-1.19811587, -1.19303018],\n",
              "       [ 0.9061458 , -1.18963888],\n",
              "       [ 0.79249983,  0.59613404],\n",
              "       [ 1.07153065,  1.24146506],\n",
              "       [ 0.53685053, -0.44933094],\n",
              "       [-0.52096105,  1.25365034],\n",
              "       [ 0.40993982,  1.3659265 ],\n",
              "       [ 0.5353978 , -1.19303018],\n",
              "       [ 1.45932111,  0.82884404],\n",
              "       [ 0.96313903,  0.72307303],\n",
              "       [-0.79329504, -1.22751619],\n",
              "       [ 0.42342373,  1.43305709],\n",
              "       [-0.61879483,  0.27018889],\n",
              "       [-1.11333838, -1.26958301],\n",
              "       [ 1.17334596,  0.6026597 ],\n",
              "       [-1.06984585, -0.55789809],\n",
              "       [-0.56172043, -1.61655633],\n",
              "       [ 1.37064746, -0.82676149],\n",
              "       [-1.25033336, -1.25518887],\n",
              "       [-1.11333838,  0.7227158 ],\n",
              "       [-0.38059063, -0.82238272],\n",
              "       [ 1.37064746,  1.29533695],\n",
              "       [-1.32602052, -1.46831819],\n",
              "       [ 1.10501551, -1.16657324],\n",
              "       [-0.37341493, -1.48007908],\n",
              "       [ 0.62208901,  0.81855979]])"
            ]
          },
          "metadata": {},
          "execution_count": 71
        }
      ]
    },
    {
      "cell_type": "code",
      "metadata": {
        "id": "AbMaHF9BUNmP",
        "outputId": "e8a026de-6670-41bf-87d8-15590e62fbec",
        "colab": {
          "base_uri": "https://localhost:8080/",
          "height": 641
        }
      },
      "source": [
        "# generate 50 random numbers for 4 quadrants represents XOR\n",
        "\n",
        "x1 = np.random.uniform(1,3,50)\n",
        "x2 = np.random.uniform(4,6,50)\n",
        "y1 = np.random.uniform(1,3,50)\n",
        "y2 = np.random.uniform(4,6,50)\n",
        "\n",
        "# features\n",
        "\n",
        "X_1 = np.vstack([np.append(x1,x2), np.append(y1,y2)]).T\n",
        "print(X_1.shape)\n",
        "X_2 = np.vstack([np.append(x1,x2), np.append(y2,y1)]).T\n",
        "print(X_2.shape)\n",
        "X = np.vstack([X_1, X_2])\n",
        "print(X.shape)\n",
        "\n",
        "# label 0 and 1\n",
        "y_1 = [0 for i in range(len(X_1))]\n",
        "print(y_1)\n",
        "y_2 = [1 for i in range(len(X_2))]\n",
        "print(y_2)\n",
        "y = np.append(y_1, y_2)\n",
        "print(y.shape)\n",
        "\n",
        "# stack features and labels\n",
        "data = np.hstack([X,y.reshape(-1,1)])\n",
        "(data.shape)\n",
        "print(data[0:5])\n",
        "# shuffle the dataset\n",
        "np.random.shuffle(data)\n",
        "# Split the data\n",
        "X, y = data[:,:2], data[:,2]\n",
        "\n",
        "X = StandardScaler().fit_transform(X)\n",
        "\n",
        "# Visualize data\n",
        "plt.scatter(X[:, 0], X[:, 1], c=y, s=50, cmap='autumn')\n",
        "plt.show()"
      ],
      "execution_count": 70,
      "outputs": [
        {
          "output_type": "stream",
          "name": "stdout",
          "text": [
            "(100, 2)\n",
            "(100, 2)\n",
            "(200, 2)\n",
            "[0, 0, 0, 0, 0, 0, 0, 0, 0, 0, 0, 0, 0, 0, 0, 0, 0, 0, 0, 0, 0, 0, 0, 0, 0, 0, 0, 0, 0, 0, 0, 0, 0, 0, 0, 0, 0, 0, 0, 0, 0, 0, 0, 0, 0, 0, 0, 0, 0, 0, 0, 0, 0, 0, 0, 0, 0, 0, 0, 0, 0, 0, 0, 0, 0, 0, 0, 0, 0, 0, 0, 0, 0, 0, 0, 0, 0, 0, 0, 0, 0, 0, 0, 0, 0, 0, 0, 0, 0, 0, 0, 0, 0, 0, 0, 0, 0, 0, 0, 0]\n",
            "[1, 1, 1, 1, 1, 1, 1, 1, 1, 1, 1, 1, 1, 1, 1, 1, 1, 1, 1, 1, 1, 1, 1, 1, 1, 1, 1, 1, 1, 1, 1, 1, 1, 1, 1, 1, 1, 1, 1, 1, 1, 1, 1, 1, 1, 1, 1, 1, 1, 1, 1, 1, 1, 1, 1, 1, 1, 1, 1, 1, 1, 1, 1, 1, 1, 1, 1, 1, 1, 1, 1, 1, 1, 1, 1, 1, 1, 1, 1, 1, 1, 1, 1, 1, 1, 1, 1, 1, 1, 1, 1, 1, 1, 1, 1, 1, 1, 1, 1, 1]\n",
            "(200,)\n",
            "[[1.8083747  2.84341473 0.        ]\n",
            " [2.40996068 2.94234638 0.        ]\n",
            " [2.58773382 2.96079411 0.        ]\n",
            " [1.2657856  1.61729401 0.        ]\n",
            " [2.2075327  1.70862796 0.        ]]\n"
          ]
        },
        {
          "output_type": "display_data",
          "data": {
            "text/plain": [
              "<Figure size 640x480 with 1 Axes>"
            ],
            "image/png": "[encoded data removed]"
          },
          "metadata": {}
        }
      ]
    },
    {
      "cell_type": "markdown",
      "source": [
        "StandardScaler() is a class from the sklearn.preprocessing module in the scikit-learn library. It's a data preprocessing technique used to standardize or scale numerical features in a dataset.\n",
        "\n",
        "Purpose\n",
        "\n",
        "Standardization is the process of transforming data so that it has zero mean (average) and unit standard deviation (variance of 1). This is often necessary because many machine learning algorithms perform better when numerical features are on a similar scale.\n",
        "\n",
        "How it Works\n",
        "\n",
        "Initialization: StandardScaler() creates a StandardScaler object that stores the scaling parameters.\n",
        "\n",
        "Fitting: You call the fit() method of the StandardScaler object, passing in your training data (features). This calculates the mean and standard deviation for each feature in the data.\n",
        "\n",
        "Transforming: After fitting, you can use the transform() method to apply the scaling to either your training data or new data. This transformation subtracts the mean and divides by the standard deviation for each feature, resulting in standardized values.\n",
        "\n",
        "Formula\n",
        "\n",
        "The standardization process is performed using the following formula for each feature:\n",
        "\n",
        "\n",
        "z = (x - u) / s\n",
        "Use code with caution\n",
        "where:\n",
        "\n",
        "z is the standardized value.\n",
        "x is the original value.\n",
        "u is the mean of the feature.\n",
        "s is the standard deviation of the feature.\n",
        "In simpler terms\n",
        "\n",
        "StandardScaler() takes your data, centers it around zero (by subtracting the mean), and scales it so that the spread of the data is one (by dividing by the standard deviation). This makes the data more \"consistent\" in terms of its scale.\n",
        "\n",
        "Why use it?\n",
        "\n",
        "Improved Algorithm Performance: Many machine learning algorithms (like gradient descent-based methods) are sensitive to the scale of features. Standardization can help them converge faster and find better solutions.\n",
        "Feature Comparability: When features have vastly different scales, it can be difficult to interpret the importance of each feature. Standardization puts them on a similar scale, making comparisons more meaningful.\n",
        "In the code\n",
        "\n",
        "In the code you provided, it was used like this:\n",
        "\n",
        "\n",
        "X = StandardScaler().fit_transform(X)\n",
        "Use code with caution\n",
        "This line directly fits the StandardScaler() on the data (X) and then transforms it in one step. It efficiently standardizes the data before it is used for model training.\n",
        "\n",
        "Let me know if you want to explore how the mean and standard deviation are calculated or if you have any other specific questions about StandardScaler().\n",
        "\n",
        "Sources\n",
        "Rate this answer\n",
        "does it make the data standard normal?\n",
        "\n",
        "That's a great question! While StandardScaler() does standardize your data by centering it around zero and scaling it to unit variance, it doesn't necessarily make the data perfectly follow a standard normal distribution (a normal distribution with a mean of 0 and a standard deviation of 1).\n",
        "\n",
        "Here's why:\n",
        "\n",
        "Shape of the Distribution: StandardScaler() only adjusts the mean and standard deviation; it doesn't change the fundamental shape of the original data distribution. If your data was originally skewed or had multiple peaks, it will still retain those characteristics after standardization.\n",
        "Outliers: Outliers in your data can influence the calculated mean and standard deviation, which in turn affects the scaling. Even after standardization, outliers might still be present and deviate from the standard normal distribution.\n",
        "So, what does it do?\n",
        "\n",
        "StandardScaler() focuses on ensuring that your data has the properties of zero mean and unit variance. This is valuable for many machine learning algorithms because it:\n",
        "\n",
        "Reduces the impact of feature scales: When features have different ranges (e.g., one feature ranges from 0 to 1, while another ranges from 1000 to 10000), algorithms that rely on distance calculations can be biased towards features with larger ranges. Standardization helps to level the playing field.\n",
        "Improves convergence: For optimization algorithms like gradient descent, standardization can make the optimization process faster and more stable.\n",
        "When might it lead to a standard normal distribution?\n",
        "\n",
        "If your data is already approximately normally distributed, then applying StandardScaler() will make it closer to a standard normal distribution. However, this is not guaranteed, and the final distribution will still depend on the initial shape of your data.\n",
        "\n",
        "In summary:\n",
        "\n",
        "StandardScaler() is a powerful preprocessing tool that makes your data more suitable for many machine learning algorithms by centering and scaling it. It doesn't necessarily produce a perfect standard normal distribution, but it brings your data closer to having the properties of zero mean and unit variance, which are often more important for algorithm performance and feature interpretability."
      ],
      "metadata": {
        "id": "lrigswEqCvQw"
      }
    },
    {
      "cell_type": "code",
      "metadata": {
        "id": "zWBDc394UNmP",
        "outputId": "a6386704-178b-45d0-ac5e-a1fe7542efee",
        "colab": {
          "base_uri": "https://localhost:8080/"
        }
      },
      "source": [
        "# Train a single Perceptron\n",
        "per_clf = Perceptron()\n",
        "# YOUR CODE HERE to fit 'per_clf' on (X, y)\n",
        "per_clf.fit(X,y)\n",
        "pred = per_clf.predict(X)\n",
        "accuracy_score(y, pred)"
      ],
      "execution_count": 73,
      "outputs": [
        {
          "output_type": "execute_result",
          "data": {
            "text/plain": [
              "0.515"
            ]
          },
          "metadata": {},
          "execution_count": 73
        }
      ]
    },
    {
      "cell_type": "code",
      "metadata": {
        "id": "IlomLn-nUNmP",
        "outputId": "0b50357c-8935-4672-d7f0-258ee92572b5",
        "colab": {
          "base_uri": "https://localhost:8080/",
          "height": 430
        }
      },
      "source": [
        "# Visualize prediction using single Perceptron\n",
        "plt.scatter(X[:, 0], X[:, 1], c=pred, s=50, cmap='autumn')\n",
        "plt.show()"
      ],
      "execution_count": 74,
      "outputs": [
        {
          "output_type": "display_data",
          "data": {
            "text/plain": [
              "<Figure size 640x480 with 1 Axes>"
            ],
            "image/png": "[encoded data removed]"
          },
          "metadata": {}
        }
      ]
    },
    {
      "cell_type": "markdown",
      "metadata": {
        "id": "PrETiJonUNmP"
      },
      "source": [
        "From the above results, we can see that a single perceptron is unable to classify two classes. Let's use a multilayer perceptron with single hidden layer having 4 neurons:"
      ]
    },
    {
      "cell_type": "code",
      "metadata": {
        "id": "M8xDyEbiUNmP",
        "outputId": "8a436208-5490-4ae9-e3eb-6df8efbd8c76",
        "colab": {
          "base_uri": "https://localhost:8080/"
        }
      },
      "source": [
        "# Train an MLP classifier\n",
        "model = MLPClassifier(activation='relu',\n",
        "                      max_iter=10000,\n",
        "                      hidden_layer_sizes=(4)\n",
        "                      )\n",
        "model.fit(X, y)\n",
        "# YOUR CODE HERE using 'model' to predict(X)\n",
        "y_predict= model.predict(X)\n",
        "# YOUR CODE HERE to show accuracy_score of (y, y_pred)\n",
        "accuracy_score(y, y_predict)"
      ],
      "execution_count": 76,
      "outputs": [
        {
          "output_type": "execute_result",
          "data": {
            "text/plain": [
              "1.0"
            ]
          },
          "metadata": {},
          "execution_count": 76
        }
      ]
    },
    {
      "cell_type": "markdown",
      "source": [
        "max_iter=10000: This parameter determines the maximum number of iterations (epochs) the training algorithm will run for.\n",
        "\n",
        "An epoch is one complete pass through the entire training dataset. Setting max_iter to 10000 means the algorithm will iterate up to 10000 times to try and find the best weights for the model, potentially stopping earlier if it converges before reaching this limit.\n",
        "hidden_layer_sizes=(4): This parameter defines the architecture of the hidden layers in the MLP.\n",
        "\n",
        "The tuple (4) specifies that there will be one hidden layer with 4 neurons. You can add more hidden layers by providing a tuple with more elements, each representing the number of neurons in the respective layer (e.g., (10, 5) would create two hidden layers with 10 and 5 neurons, respectively)."
      ],
      "metadata": {
        "id": "BX8nDq-HFkcs"
      }
    },
    {
      "cell_type": "code",
      "metadata": {
        "id": "tcaOhc0jUNmQ",
        "outputId": "37055ee0-4fb6-4c7c-d2fe-a2268bf5a16b",
        "colab": {
          "base_uri": "https://localhost:8080/",
          "height": 430
        }
      },
      "source": [
        "# Visualize prediction using multilayer perceptron\n",
        "# YOUR CODE HERE for scatter plot (X[:, 0], X[:, 1]) with parameters (c=y_pred, s=50, cmap='autumn')\n",
        "plt.scatter(X[:,0], X[:,1], c=y_predict, s= 50, cmap='autumn')\n",
        "plt.show()"
      ],
      "execution_count": 78,
      "outputs": [
        {
          "output_type": "display_data",
          "data": {
            "text/plain": [
              "<Figure size 640x480 with 1 Axes>"
            ],
            "image/png": "[encoded data removed]"
          },
          "metadata": {}
        }
      ]
    },
    {
      "cell_type": "markdown",
      "metadata": {
        "id": "QvYgUYhWUNmQ"
      },
      "source": [
        "From the above results, we can see that MLP classifies the two classes almost accurately."
      ]
    },
    {
      "cell_type": "markdown",
      "metadata": {
        "id": "MBMqT7KgPlyB"
      },
      "source": [
        "### Theory Questions"
      ]
    },
    {
      "cell_type": "markdown",
      "metadata": {
        "id": "zyjO7cGKPlyB"
      },
      "source": [
        "1. Why is it generally preferable to use a Logistic Regression classifier rather than a classical Perceptron (i.e., a single layer of threshold logic units trained using the Perceptron training algorithm)? How can you tweak a Perceptron to make it equivalent to a Logistic Regression classifier?\n",
        "\n",
        " A classical Perceptron will converge only if the dataset is linearly separable, and it won’t be able to estimate class probabilities. In contrast, a Logistic Regression classifier will converge to a good solution even if the dataset is not linearly separable, and it will output class probabilities. If you change the Perceptron’s activation function to the logistic activation function (or the softmax activation function if there are multiple neurons), and if you train it using Gradient Descent (or some other optimization algorithm minimizing the cost function, typically cross entropy), then it becomes equivalent to a Logistic Regression classifier.\n",
        "\n",
        "2. Why was the logistic activation function a key ingredient in training the first MLPs?\n",
        "\n",
        " The logistic activation function was a key ingredient in training the first MLPs because its derivative is always nonzero, so Gradient Descent can always roll down the slope. When the activation function is a step function, Gradient\n",
        "Descent cannot move, as there is no slope at all.\n",
        "\n",
        "3. Name three popular activation functions.\n",
        "\n",
        " Popular activation functions include the step function, the logistic (sigmoid)\n",
        "function, the hyperbolic tangent (tanh) function, and the Rectified Linear Unit\n",
        "(ReLU) function.\n",
        "\n",
        "4. Suppose you have an MLP composed of one input layer with 10 passthrough\n",
        "neurons, followed by one hidden layer with 50 artificial neurons, and finally one output layer with 3 artificial neurons. All artificial neurons use the ReLU activation function.\n",
        "\n",
        "  * What is the shape of the input matrix $X$?\n",
        "  * What are the shapes of the hidden layer’s weight vector $W_h$ and its bias vector $b_h$?\n",
        "  * What are the shapes of the output layer’s weight vector $W_o$ and its bias vector $b_o$?\n",
        "  * What is the shape of the network’s output matrix $Y$?\n",
        "  * Write the equation that computes the network’s output matrix $Y$ as a function of $X, W_h, b_h, W_o,$ and $b_o$.\n",
        "\n",
        " Considering the MLP described in the question, composed of one input layer\n",
        "with 10 passthrough neurons, followed by one hidden layer with 50 artificial neurons, and finally one output layer with 3 artificial neurons, where all artificial neurons use the ReLU activation function:\n",
        "\n",
        "  * The shape of the input matrix X is $m$ × 10, where $m$ represents the training batch size.\n",
        "\n",
        "  * The shape of the hidden layer’s weight vector $W_h$ is 10 × 50, and the length of its bias vector $b_h$ is 50.\n",
        "\n",
        "  * The shape of the output layer’s weight vector $W_o$ is 50 × 3, and the length of its bias vector $b_o$ is 3.\n",
        "\n",
        "  * The shape of the network’s output matrix $Y$ is $m$ × 3.\n",
        "\n",
        "  * $Y = ReLU(ReLU(X W_h + b_h) W_o + b_o)$.\n",
        "  \n",
        "  Recall that the ReLU function just sets every negative number in the matrix to zero. Also note that when you are\n",
        "adding a bias vector to a matrix, it is added to every single row in the matrix,\n",
        "which is called broadcasting.\n",
        "\n",
        "5. How many neurons do you need in the output layer if you want to classify email into spam or ham? What activation function should you use in the output layer? If instead you want to tackle MNIST, how many neurons do you need in the output layer, and which activation function should you use? What about for getting your network to predict housing prices?\n",
        "\n",
        "  To classify email into spam or ham, you just need one neuron in the output layer of a neural network—for example, indicating the probability that the email is spam. You would typically use the logistic activation function in the output layer when estimating a probability. If instead you want to tackle MNIST, you need 10 neurons in the output layer, and you must replace the logistic function with the softmax activation function, which can handle multiple classes, outputting one probability per class. If you want your neural network to predict housing prices, then you need one output neuron, using no activation function at all in the output layer.\n",
        "\n",
        "  Summary\n",
        "\n",
        "Task\tNeurons in Output Layer\tActivation Function\n",
        "Email (Spam/Ham)\t1\tsigmoid\n",
        "MNIST\t10\tsoftmax\n",
        "Housing Price Prediction\t1\tlinear/None\n",
        "\n",
        "6. What is backpropagation and how does it work? What is the difference between\n",
        "backpropagation and reverse-mode autodiff?\n",
        "\n",
        "  Backpropagation is a technique used to train artificial neural networks. It first computes the gradients of the cost function with regard to every model parameter (all the weights and biases), then it performs a Gradient Descent step using these gradients. This backpropagation step is typically performed thousands or millions of times, using many training batches, until the model parameters converge to values that (hopefully) minimize the cost function. To compute the gradients, backpropagation uses reverse-mode autodiff (although it wasn’t called that when backpropagation was invented, and it has been reinvented several times). Reverse-mode autodiff performs a forward pass through a computation graph, computing every node’s value for the current training batch, and then it performs a reverse pass, computing all the gradients at once.\n",
        "  \n",
        "  So the difference is, backpropagation refers to the whole process of training an artificial neural network using multiple backpropagation steps, each of which computes gradients and uses them to perform a Gradient Descent step. In contrast, reverse-mode autodiff is just a technique to compute gradients efficiently, and it happens to be used by backpropagation.\n",
        "  "
      ]
    },
    {
      "cell_type": "markdown",
      "metadata": {
        "id": "VHfHdGCP_n6Y"
      },
      "source": [
        "### Please answer the questions below to complete the experiment:\n",
        "\n",
        "\n"
      ]
    },
    {
      "cell_type": "code",
      "metadata": {
        "id": "VgSwVENIPcM6"
      },
      "source": [
        "#@title Suppose the network has 784 inputs, 32 neurons in first hidden layer, 16 neurons in second hidden layer, and 10 neurons in the output layer. How many parameters does the network have? { run: \"auto\", form-width: \"500px\", display-mode: \"form\" }\n",
        "Answer = \"25818\" #@param [\"\", \"25818\", \"25760\", \"842\"]"
      ],
      "execution_count": 80,
      "outputs": []
    },
    {
      "cell_type": "code",
      "metadata": {
        "id": "NMzKSbLIgFzQ"
      },
      "source": [
        "#@title How was the experiment? { run: \"auto\", form-width: \"500px\", display-mode: \"form\" }\n",
        "Complexity = \"\" #@param [\"\",\"Too Simple, I am wasting time\", \"Good, But Not Challenging for me\", \"Good and Challenging for me\", \"Was Tough, but I did it\", \"Too Difficult for me\"]\n"
      ],
      "execution_count": null,
      "outputs": []
    },
    {
      "cell_type": "code",
      "metadata": {
        "id": "DjcH1VWSFI2l"
      },
      "source": [
        "#@title If it was too easy, what more would you have liked to be added? If it was very difficult, what would you have liked to have been removed? { run: \"auto\", display-mode: \"form\" }\n",
        "Additional = \"\" #@param {type:\"string\"}\n"
      ],
      "execution_count": null,
      "outputs": []
    },
    {
      "cell_type": "code",
      "metadata": {
        "id": "4VBk_4VTAxCM"
      },
      "source": [
        "#@title Can you identify the concepts from the lecture which this experiment covered? { run: \"auto\", vertical-output: true, display-mode: \"form\" }\n",
        "Concepts = \"\" #@param [\"\",\"Yes\", \"No\"]\n"
      ],
      "execution_count": null,
      "outputs": []
    },
    {
      "cell_type": "code",
      "metadata": {
        "id": "XH91cL1JWH7m"
      },
      "source": [
        "#@title  Text and image description/explanation and code comments within the experiment: { run: \"auto\", vertical-output: true, display-mode: \"form\" }\n",
        "Comments = \"\" #@param [\"\",\"Very Useful\", \"Somewhat Useful\", \"Not Useful\", \"Didn't use\"]\n"
      ],
      "execution_count": null,
      "outputs": []
    },
    {
      "cell_type": "code",
      "metadata": {
        "id": "z8xLqj7VWIKW"
      },
      "source": [
        "#@title Mentor Support: { run: \"auto\", vertical-output: true, display-mode: \"form\" }\n",
        "Mentor_support = \"\" #@param [\"\",\"Very Useful\", \"Somewhat Useful\", \"Not Useful\", \"Didn't use\"]\n"
      ],
      "execution_count": null,
      "outputs": []
    },
    {
      "cell_type": "code",
      "metadata": {
        "id": "FzAZHt1zw-Y-",
        "cellView": "form"
      },
      "source": [
        "#@title Run this cell to submit your notebook for grading { vertical-output: true }\n",
        "try:\n",
        "  if submission_id:\n",
        "      return_id = submit_notebook()\n",
        "      if return_id : submission_id = return_id\n",
        "  else:\n",
        "      print(\"Please complete the setup first.\")\n",
        "except NameError:\n",
        "  print (\"Please complete the setup first.\")"
      ],
      "execution_count": null,
      "outputs": []
    }
  ]
}